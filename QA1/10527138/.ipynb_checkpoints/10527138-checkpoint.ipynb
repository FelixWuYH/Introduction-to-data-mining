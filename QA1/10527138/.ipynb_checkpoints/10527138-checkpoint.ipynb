{
 "cells": [
  {
   "cell_type": "markdown",
   "metadata": {},
   "source": [
    "1 Compound Data Types"
   ]
  },
  {
   "cell_type": "code",
   "execution_count": 5,
   "metadata": {},
   "outputs": [
    {
     "name": "stdout",
     "output_type": "stream",
     "text": [
      "<class 'dict'>\n",
      "2\n",
      "3\n",
      "{'a': 1, 'b': 2, 'c': 3}\n",
      "10\n",
      "{'a': 10, 'c': 3}\n",
      "{'a': 10, 'c': 3, 'd': 4, 'e': 5, 'f': 6}\n"
     ]
    }
   ],
   "source": [
    "aDict = {'a':1, 'b':2, 'c':3} #創dictionary\n",
    "bDict = {'d':4, 'e':5, 'f':6}\n",
    "cDict = {}\n",
    "print( type(aDict) )\n",
    "print( aDict['b'] ) #利用key值來檢索\n",
    "print( aDict['c'] ) \n",
    "print( aDict ) #顯示dictionry裡面的內容\n",
    "aDict['a'] = 10 #修改字典\n",
    "print( aDict['a'] )\n",
    "del aDict['b'] #刪除'2'的字典\n",
    "print( aDict )\n",
    "cDict = dict( aDict, **bDict ) #合併字典\n",
    "print( cDict ) \n"
   ]
  },
  {
   "cell_type": "markdown",
   "metadata": {},
   "source": [
    "2 User-Defined Funtions"
   ]
  },
  {
   "cell_type": "code",
   "execution_count": 9,
   "metadata": {},
   "outputs": [
    {
     "name": "stdout",
     "output_type": "stream",
     "text": [
      "15\n",
      "-19\n"
     ]
    }
   ],
   "source": [
    "def Calculate( a, b, i ):\n",
    "    if( a > b ) :\n",
    "        return(Calculate( a-1, b, i+1 ))\n",
    "    elif( a < b ) :\n",
    "        return(Calculate( a, b-1, i-1 ))\n",
    "    else:\n",
    "        return i\n",
    "print( Calculate( 31, 16, 0) )\n",
    "print( Calculate( 23, 42, 0) )\n",
    "    "
   ]
  },
  {
   "cell_type": "markdown",
   "metadata": {},
   "source": [
    "3 File I/O"
   ]
  },
  {
   "cell_type": "code",
   "execution_count": 17,
   "metadata": {},
   "outputs": [
    {
     "name": "stdout",
     "output_type": "stream",
     "text": [
      "['姓名', '球員背號', '姓名', '球員背號']\n",
      "['小富', '2', '小守', '11']\n",
      "['小愷', '20', '小緯', '23']\n",
      "['小普', '14', '小毛', '30']\n",
      "['小碩', '1', '小以', '26']\n",
      "['小佳', '21', '小喬', '31']\n",
      "['小力', '8', '小派', '25']\n",
      "['小麒', '22', '小志', '32']\n",
      "['小柏', '17', '小育', '4']\n"
     ]
    }
   ],
   "source": [
    "import csv\n",
    "\n",
    "with open( 'number.csv' ) as csvfile:\n",
    "    rows = csv.reader(csvfile)\n",
    "    top_list = []\n",
    "    \n",
    "    for row in rows:\n",
    "        top_list.append(row)\n",
    "    \n",
    "    for i in range(len(top_list)):\n",
    "        print(top_list[i])"
   ]
  }
 ],
 "metadata": {
  "kernelspec": {
   "display_name": "Python 3",
   "language": "python",
   "name": "python3"
  },
  "language_info": {
   "codemirror_mode": {
    "name": "ipython",
    "version": 3
   },
   "file_extension": ".py",
   "mimetype": "text/x-python",
   "name": "python",
   "nbconvert_exporter": "python",
   "pygments_lexer": "ipython3",
   "version": "3.6.5"
  }
 },
 "nbformat": 4,
 "nbformat_minor": 2
}
