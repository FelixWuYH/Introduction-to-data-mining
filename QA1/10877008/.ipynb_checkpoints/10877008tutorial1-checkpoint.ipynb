{
 "cells": [
  {
   "cell_type": "markdown",
   "metadata": {},
   "source": [
    "## 1. Compound Data Types"
   ]
  },
  {
   "cell_type": "markdown",
   "metadata": {},
   "source": [
    "set 屬於 compound data types 的一種物件 <br /> \n",
    "set types 又分為兩種, 分別是 set 和 forzenset"
   ]
  },
  {
   "cell_type": "code",
   "execution_count": 1,
   "metadata": {},
   "outputs": [
    {
     "name": "stdout",
     "output_type": "stream",
     "text": [
      "{1, 2, 3}\n",
      "<class 'set'>\n",
      "frozenset({1, 2, 3, 4, 5})\n",
      "<class 'frozenset'>\n",
      "True\n",
      "False\n",
      "{1, 2, 3}\n",
      "{1, 2, 3, 4, 5}\n",
      "{4, 5}\n",
      "set()\n",
      "True\n",
      "True\n",
      "False\n",
      "False\n",
      "3\n",
      "1\n",
      "3\n"
     ]
    }
   ],
   "source": [
    "set1 = {1, 2, 3}  #set, 裡面的元素是可變的\n",
    "print(set1)\n",
    "print(type(set1))\n",
    "\n",
    "set2 = frozenset({1, 2, 3, 4, 5})  #forzenset, 裡面的元素不可刪除以及新增, 為不可變\n",
    "print(set2)\n",
    "print(type(set2))\n",
    "\n",
    "print(1 in set1)  #判斷 1 是否在 set1 裡\n",
    "print(4 in set1)  #判斷 4 是否在 set1 裡\n",
    "print(set1 & set2)  #取交集\n",
    "print(set1 | set2)  #取聯集\n",
    "print(set1 ^ set2)  #取對稱差集\n",
    "print(set1 - set2)  #取差集\n",
    "print(set1 < set2)  #判斷 set1 是否為 set2 的真子集\n",
    "print(set1 <= set2)  #判斷 set1 是否為 set2 的子集\n",
    "print(set1 > set2)  #判斷 set2 是否為 set1 的真子集\n",
    "print(set1 >= set2)  #判斷 set2 是否為 set1 的子集\n",
    "print(len(set1))  #取元素個數\n",
    "print(min(set1))  #取元素中最小值, 元素必須為相同型態\n",
    "print(max(set1))  #取元素中最大值, 元素必須為相同型態"
   ]
  },
  {
   "cell_type": "markdown",
   "metadata": {},
   "source": [
    "## 2. User-Defined Functions"
   ]
  },
  {
   "cell_type": "code",
   "execution_count": 2,
   "metadata": {},
   "outputs": [
    {
     "name": "stdout",
     "output_type": "stream",
     "text": [
      "Hi Taiwan\n",
      "Hi Amy\n"
     ]
    }
   ],
   "source": [
    "def hi(name='Taiwan'):  #名為 hi 的 Function, 名稱預設為 Taiwan\n",
    "    print(\"Hi \" + name)\n",
    "    return\n",
    "\n",
    "hi()\n",
    "hi('Amy')"
   ]
  },
  {
   "cell_type": "markdown",
   "metadata": {},
   "source": [
    "## 3. File I/O"
   ]
  },
  {
   "cell_type": "code",
   "execution_count": 3,
   "metadata": {},
   "outputs": [],
   "source": [
    "from PIL import Image  #從 PIL 中 import Image函數\n",
    "\n",
    "img = Image.open('test.jpg')  #讀入圖片\n",
    "img.show()  #開啟圖片\n",
    "img.save('output.png')  #輸出圖片, 副檔名為 png"
   ]
  }
 ],
 "metadata": {
  "kernelspec": {
   "display_name": "Python 3",
   "language": "python",
   "name": "python3"
  },
  "language_info": {
   "codemirror_mode": {
    "name": "ipython",
    "version": 3
   },
   "file_extension": ".py",
   "mimetype": "text/x-python",
   "name": "python",
   "nbconvert_exporter": "python",
   "pygments_lexer": "ipython3",
   "version": "3.6.5"
  }
 },
 "nbformat": 4,
 "nbformat_minor": 2
}
