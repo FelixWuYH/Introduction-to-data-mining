{
 "cells": [
  {
   "cell_type": "markdown",
   "metadata": {},
   "source": [
    "1.2 Compound Data Types：\n",
    "\n",
    "Python Compound Data共有三種：\n",
    "1. list: list使用中括號建立，list裡面的成員可以是任何的數字、字串、甚至其他list，tuple和dict，function等其他物件也可以。list也可以像字串一樣使用索引、切片來取得其中的成員。\n",
    "2. dictionary：dict使用大括號建立，例如 d = {key1 : value1, key2 : value2 }，資料格式是一組組對值paried data(key, value)，可以使用key找出對應的value，有點像是自訂index。key一般是唯一的，如果重複，最後的一個paried data会替换前面的，但值可以不需要唯一。\n",
    "3. tuble：很像list type，但唯一不同點是資料建立後無法修改。tuple使用小括號建立。"
   ]
  },
  {
   "cell_type": "code",
   "execution_count": 1,
   "metadata": {},
   "outputs": [
    {
     "name": "stdout",
     "output_type": "stream",
     "text": [
      "['001', '002', '003', '004']\n",
      "[('001', 'Alice'), ('002', 'Bill'), ('004', 'Peter'), ('003', 'Smith')]\n"
     ]
    }
   ],
   "source": [
    "# 建立編號和姓名的paried data，後續分別依key和value排序\n",
    "\n",
    "name = {'002':'Bill','001':'Alice','003':'Smith','004':'Peter'}\n",
    "\n",
    "print(sorted(name))     # sort keys of dictionary\n",
    "\n",
    "from operator import itemgetter\n",
    "\n",
    "print(sorted(name.items(), key=itemgetter(1)))    # sort by value of dictionary \n"
   ]
  },
  {
   "cell_type": "markdown",
   "metadata": {},
   "source": [
    "1.4 User-Defined Function：\n",
    "\n",
    "使用者自定義函數,讓使用者可以依自己實際需要,創造自己的函數,來完成任務。\n",
    "使用者自定義函數又分Named及Unnamed兩種。\n",
    "底下使用 user-define fucntion(Named)為例子："
   ]
  },
  {
   "cell_type": "code",
   "execution_count": 13,
   "metadata": {},
   "outputs": [
    {
     "name": "stdout",
     "output_type": "stream",
     "text": [
      "['banana']\n"
     ]
    }
   ],
   "source": [
    "# The following function can pick up a word's lengh over 6 from a list\n",
    "\n",
    "def fruit(inlist):     \n",
    "    outlist = []\n",
    "    for item in inlist:        \n",
    "        if len(item)>=6:\n",
    "            outlist.append(item)\n",
    "                 \n",
    "    return outlist\n",
    "\n",
    "mylist = ['apple','kiwi', 'banana', 'guava', 'peach']\n",
    "\n",
    "print(fruit(mylist))  "
   ]
  },
  {
   "cell_type": "markdown",
   "metadata": {},
   "source": [
    "1.5 File I/O：\n",
    "\n",
    "使用者輸入/出資料可以不限標準輸入(keyboard)或輸出(screen)，也可以從檔案把資料讀入或把資料輸出至檔案，增加作業靈活性和便利性\n",
    "底下使用大陸省份名稱，簡稱和省會檔案作輸入和輸出的示範"
   ]
  },
  {
   "cell_type": "code",
   "execution_count": 10,
   "metadata": {},
   "outputs": [
    {
     "name": "stdout",
     "output_type": "stream",
     "text": [
      "省份： 河北省 ( 冀 ) 省會: 石家莊\n",
      "\n",
      "省份： 四川省 ( 蜀 ) 省會: 成都\n",
      "\n",
      "省份： 貴州省 ( 黔 ) 省會: 貴陽\n",
      "\n",
      "省份： 山西省 ( 晉 ) 省會: 太原\n"
     ]
    }
   ],
   "source": [
    "states = [('冀', '河北省', '石家莊'),('蜀', '四川省', '成都'),\n",
    "          ('黔', '貴州省', '貴陽'), ('晉', '山西省', '太原')]\n",
    "          \n",
    "# establish a writable file, then put data into file\n",
    "          \n",
    "with open('states.txt', 'w') as fo:\n",
    "    fo.write('\\n'.join('%s,%s,%s' % state for state in states))\n",
    "    \n",
    "# call file\"ststes.txt\" which only readable, then print each of state,abbrev and capital\n",
    "with open('states.txt', 'r') as fo:\n",
    "    for pron in fo:\n",
    "        fields = pron.split(sep=',')    # split each line into its respective fields\n",
    "        print('省份：',fields[1],'(',fields[0],')','省會:', fields[2])"
   ]
  }
 ],
 "metadata": {
  "kernelspec": {
   "display_name": "Python 3",
   "language": "python",
   "name": "python3"
  },
  "language_info": {
   "codemirror_mode": {
    "name": "ipython",
    "version": 3
   },
   "file_extension": ".py",
   "mimetype": "text/x-python",
   "name": "python",
   "nbconvert_exporter": "python",
   "pygments_lexer": "ipython3",
   "version": "3.6.5"
  }
 },
 "nbformat": 4,
 "nbformat_minor": 2
}
