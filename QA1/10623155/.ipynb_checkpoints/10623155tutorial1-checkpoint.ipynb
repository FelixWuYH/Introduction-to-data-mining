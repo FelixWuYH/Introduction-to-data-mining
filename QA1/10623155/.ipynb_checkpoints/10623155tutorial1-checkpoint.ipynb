{
 "cells": [
  {
   "cell_type": "markdown",
   "metadata": {},
   "source": [
    "# 1.2 Compound Data Types\n",
    "String同等於由許多個Char組成\n",
    "一樣可使用index來對String做操作"
   ]
  },
  {
   "cell_type": "code",
   "execution_count": 33,
   "metadata": {},
   "outputs": [
    {
     "name": "stdout",
     "output_type": "stream",
     "text": [
      "I Love Data Mining\n",
      "I Love Data Mining\n",
      "\n",
      "How are you.\n",
      "Hello! Data Mining  \n",
      "Nice to meet you.\n",
      "\n",
      "I Love Data MiningHow are you.\n",
      "Hello! Data Mining  \n",
      "Nice to meet you.\n",
      "\n",
      "<class 'int'>\n",
      "<class 'int'>\n",
      "<class 'str'>\n",
      "I Love Data Mining\n",
      "gniniM ataD evoL I\n",
      "\n",
      "gniniM ataD evoL I"
     ]
    }
   ],
   "source": [
    "str1 = \"I Love Data Mining\" #字串定義\n",
    "str2 = \"I Love Data Mining\\n\" #加\\n可換行\n",
    "#3個雙引號包住可以定義多行字串\n",
    "str3 = \"\"\"How are you.\n",
    "Hello! Data Mining  \n",
    "Nice to meet you.\n",
    "\"\"\"\n",
    "str4 = str1 + str3 #字串能夠使用加法直接合併\n",
    "print(str1)\n",
    "print(str2)\n",
    "print(str3)\n",
    "print(str4)\n",
    "\n",
    "\n",
    "a = 1000 \n",
    "print(type(a))\n",
    "str(a) #直接對a使用str()轉換沒有改變\n",
    "b = str(a) #回傳str type的a\n",
    "print(type(a))\n",
    "print(type(b))\n",
    "\n",
    "#用while和for將string倒印，若要避免換行，print加上end=''\n",
    "print(str1)\n",
    "index = len(str1) \n",
    "while index>0:\n",
    "    print(str1[index-1],end='')\n",
    "    index = index - 1\n",
    "\n",
    "print('\\n')\n",
    "for i in reversed(str1):\n",
    "    print(i,end='')"
   ]
  },
  {
   "cell_type": "markdown",
   "metadata": {
    "collapsed": true
   },
   "source": [
    "# 1.4 User-Defined Functions\n",
    "透過自訂函式實作以遞迴方式計算費氏數列"
   ]
  },
  {
   "cell_type": "code",
   "execution_count": 18,
   "metadata": {},
   "outputs": [
    {
     "name": "stdout",
     "output_type": "stream",
     "text": [
      "0\n",
      "1\n",
      "1\n",
      "2\n",
      "3\n",
      "5\n",
      "8\n",
      "13\n",
      "21\n",
      "34\n"
     ]
    }
   ],
   "source": [
    "def fib(num):\n",
    "    if num==0:\n",
    "          return 0\n",
    "    elif num==1:\n",
    "          return 1\n",
    "    return fib(num-1) + fib(num-2)\n",
    "\n",
    "for i in range(0,9)// 列出費氏數列從第1項到第10項\n",
    "    print(fib(i))"
   ]
  },
  {
   "cell_type": "markdown",
   "metadata": {},
   "source": [
    "# 1.5 File I/O\n",
    "實作文件的讀取與寫入"
   ]
  },
  {
   "cell_type": "code",
   "execution_count": 35,
   "metadata": {},
   "outputs": [
    {
     "name": "stdout",
     "output_type": "stream",
     "text": [
      "搜索字串起始位置: 5\n",
      "檔案是否關閉: False\n",
      "檔案是否關閉: True\n",
      "I am \n",
      "檔案當前讀取位置: 5\n",
      "檔案當前讀取位置: 10\n",
      "\n",
      "My h\n",
      "I am Dan!\n",
      "My height is 1.8 meters!\n",
      "檔案是否關閉: True\n"
     ]
    }
   ],
   "source": [
    "file = open('height.txt',\"w\") #創建一個file檔案寫入相關字串  \n",
    "str1 = \"I am Dan!\\nMy height is 1.8 meters!\\n\"\n",
    "namepos1 = str1.find(\"Dan\")\n",
    "print(\"搜索字串起始位置:\",namepos)\n",
    "file.write(str1)\n",
    "print(\"檔案是否關閉:\",file.closed ) #file.closed可以看檔案的開關狀態\n",
    "file.close() #將檔案關閉\n",
    "print(\"檔案是否關閉:\",file.closed ) #file.closed可以看檔案的開關狀態\n",
    "\n",
    "file = open('height.txt',\"r\") #以讀取方式打開原創建文件\n",
    "str2 = file.read(namepos) #read(count)從頭開始讀取文件字數\n",
    "position = file.tell() #tell()回報當前文件讀取位置\n",
    "print(str2)\n",
    "print(\"檔案當前讀取位置:\",position)\n",
    "position = file.seek(str1.find(\"M\")) #seek()改變讀取位置\n",
    "print(\"檔案當前讀取位置:\",position)\n",
    "str3 = file.read(5)\n",
    "print(str3)\n",
    "file.close()\n",
    "\n",
    "with open('height.txt', 'r' ) as file: #使用with....as在讀取區塊內就算產生error一樣會自動將檔案關閉\n",
    "    for line in file:\n",
    "        print(line, end='')\n",
    "        \n",
    "print(\"檔案是否關閉:\",file.closed )"
   ]
  }
 ],
 "metadata": {
  "kernelspec": {
   "display_name": "Python 3",
   "language": "python",
   "name": "python3"
  },
  "language_info": {
   "codemirror_mode": {
    "name": "ipython",
    "version": 3
   },
   "file_extension": ".py",
   "mimetype": "text/x-python",
   "name": "python",
   "nbconvert_exporter": "python",
   "pygments_lexer": "ipython3",
   "version": "3.6.5"
  }
 },
 "nbformat": 4,
 "nbformat_minor": 2
}
