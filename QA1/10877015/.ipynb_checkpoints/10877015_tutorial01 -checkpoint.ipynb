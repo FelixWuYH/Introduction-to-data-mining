{
 "cells": [
  {
   "cell_type": "markdown",
   "metadata": {
    "colab_type": "text",
    "id": "c_OOhE4X63OT"
   },
   "source": [
    "Part1.\n",
    "Compound Datatype\n",
    "利用String來做一些應用"
   ]
  },
  {
   "cell_type": "code",
   "execution_count": 31,
   "metadata": {
    "colab": {
     "base_uri": "https://localhost:8080/",
     "height": 104
    },
    "colab_type": "code",
    "id": "FEs3KKv468yz",
    "outputId": "3fcc6cff-7c90-4cd1-9c32-28476406ed3c"
   },
   "outputs": [
    {
     "name": "stdout",
     "output_type": "stream",
     "text": [
      "ABCDEFG\n",
      "abcdefg\n",
      "a\n",
      "G\n",
      "abcdefgABCDEFG\n"
     ]
    }
   ],
   "source": [
    "str = \"abcdefg\"\n",
    "str_upper = str.upper()\n",
    "print(str_upper)\n",
    "print(str)\n",
    "print(str[ : 1])\n",
    "print(str_upper [ -1 : ])\n",
    "str_new = str + str_upper\n",
    "print(str_new)"
   ]
  },
  {
   "cell_type": "markdown",
   "metadata": {
    "colab_type": "text",
    "id": "prRsvIdRBFgK"
   },
   "source": [
    "Part2. 設計一個Function 並執行使用\n",
    "\n",
    "學生選的是河內塔，會顯示出移動的過程與總次數。"
   ]
  },
  {
   "cell_type": "code",
   "execution_count": 0,
   "metadata": {
    "colab": {
     "base_uri": "https://localhost:8080/",
     "height": 191
    },
    "colab_type": "code",
    "id": "ZywsWHpFA0LM",
    "outputId": "013d06f2-48a7-4274-f8dd-a30e8a612861"
   },
   "outputs": [
    {
     "name": "stdout",
     "output_type": "stream",
     "text": [
      "請輸入圈圈數量：\n",
      "None3\n",
      "1號圈：A→C\n",
      "2號圈：A→B\n",
      "1號圈：C→B\n",
      "3號圈：A→C\n",
      "1號圈：B→A\n",
      "2號圈：B→C\n",
      "1號圈：A→C\n",
      "總移動次數為：7次\n"
     ]
    }
   ],
   "source": [
    "import math\n",
    "\n",
    "def hanoi(n, A, B, C):\n",
    "    if n == 1:\n",
    "        print(str(n) + \"號圈：\" + A + \"→\" + C)\n",
    "    else:\n",
    "        hanoi(n-1, A, C, B)\n",
    "        print(str(n) + \"號圈：\" + A + \"→\" + C)\n",
    "        hanoi(n-1, B, A, C)\n",
    "        \n",
    "def hanoi_amount(c):\n",
    "  if c == 1:\n",
    "    return 1\n",
    "  else:\n",
    "    return 2 ** (c-1) + hanoi_amount(c-1)\n",
    "      \n",
    "i = int(input(print(\"請輸入圈圈數量：\")))\n",
    "\n",
    "total = hanoi_amount(i)\n",
    "hanoi(i, \"A\", \"B\", \"C\")\n",
    "\n",
    "print(\"總移動次數為：\" + str(total) + \"次\")\n"
   ]
  },
  {
   "cell_type": "markdown",
   "metadata": {
    "colab_type": "text",
    "id": "1AtRqHrG2Zb9"
   },
   "source": [
    "Part3. \n",
    "開啟一個檔案\n",
    "學生會開啟一個Excel檔並讀取前三個Row的DATA"
   ]
  },
  {
   "cell_type": "code",
   "execution_count": 0,
   "metadata": {
    "colab": {},
    "colab_type": "code",
    "id": "y1KWcu2EBacC"
   },
   "outputs": [],
   "source": [
    "import csv\n",
    "file1=open(\"ph.csv\",\"r\",encoding='utf-8-sig')\n",
    "for row in csv.DictReader(file1,['a','b','c','d','e','f','g','h','i']):\n",
    "    print(row['a'],row['b'],row['c'])\n",
    "file1.close()"
   ]
  }
 ],
 "metadata": {
  "colab": {
   "name": "Datamining_HW1_10877015.ipynb",
   "provenance": []
  },
  "kernelspec": {
   "display_name": "Python 3",
   "language": "python",
   "name": "python3"
  },
  "language_info": {
   "codemirror_mode": {
    "name": "ipython",
    "version": 3
   },
   "file_extension": ".py",
   "mimetype": "text/x-python",
   "name": "python",
   "nbconvert_exporter": "python",
   "pygments_lexer": "ipython3",
   "version": "3.6.5"
  }
 },
 "nbformat": 4,
 "nbformat_minor": 1
}
