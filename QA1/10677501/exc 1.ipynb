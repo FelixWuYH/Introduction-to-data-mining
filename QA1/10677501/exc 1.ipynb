{
 "cells": [
  {
   "cell_type": "code",
   "execution_count": 6,
   "metadata": {},
   "outputs": [
    {
     "name": "stdout",
     "output_type": "stream",
     "text": [
      "i\n",
      "i\n",
      "a\n"
     ]
    }
   ],
   "source": [
    "vowels = ['a', 'e', 'i', 'o', 'u']    # List\n",
    "word = \"Milliways\"\n",
    "for letter in word:\n",
    "    if letter in vowels:\n",
    "        print(letter)\n",
    "        "
   ]
  },
  {
   "cell_type": "code",
   "execution_count": 9,
   "metadata": {},
   "outputs": [
    {
     "data": {
      "text/plain": [
       "'Ford Prefect'"
      ]
     },
     "execution_count": 9,
     "metadata": {},
     "output_type": "execute_result"
    }
   ],
   "source": [
    "person3 = { 'Name': 'Ford Prefect',\n",
    "'Gender': 'Male',\n",
    "'Occupation': 'Researcher',\n",
    "'Home Planet': 'Betelgeuse Seven' }    # Dictionaries\n",
    "person3['Name']"
   ]
  },
  {
   "cell_type": "code",
   "execution_count": 3,
   "metadata": {},
   "outputs": [
    {
     "data": {
      "text/plain": [
       "{'a', 'e', 'i', 'o', 'u'}"
      ]
     },
     "execution_count": 3,
     "metadata": {},
     "output_type": "execute_result"
    }
   ],
   "source": [
    "vowels = { 'a', 'e', 'e', 'i', 'o', 'u', 'u' }    # Sets\n",
    "vowels\n"
   ]
  },
  {
   "cell_type": "code",
   "execution_count": 4,
   "metadata": {},
   "outputs": [
    {
     "data": {
      "text/plain": [
       "tuple"
      ]
     },
     "execution_count": 4,
     "metadata": {},
     "output_type": "execute_result"
    }
   ],
   "source": [
    "vowels2 = ( 'a', 'e', 'i', 'o', 'u' )  # Tuples\n",
    "type(vowels2)\n"
   ]
  },
  {
   "cell_type": "code",
   "execution_count": 10,
   "metadata": {},
   "outputs": [
    {
     "name": "stdout",
     "output_type": "stream",
     "text": [
      "Average of  3  and  4  is  3.5\n"
     ]
    }
   ],
   "source": [
    "def avg_number(x, y):\n",
    "    print(\"Average of \",x,\" and \",y, \" is \",(x+y)/2)  #  User defined function.\n",
    "avg_number(3, 4)"
   ]
  },
  {
   "cell_type": "code",
   "execution_count": null,
   "metadata": {},
   "outputs": [],
   "source": [
    "file = open(“C:/users/Python/test.txt”)    #  Opens the file in different directory.\n",
    "\n",
    "print(file.read())   #  To print the content of the whole file\n",
    "\n",
    "print(file.readline())  #  To read only one line\n",
    "\n",
    "file.write(“Hello python \\n”)  #  write Hello Python and point the cursor to the next line\n",
    "\n",
    "file.close()  #  function to close the file\n",
    "\n",
    "\n",
    "\n",
    "\n",
    "\n"
   ]
  }
 ],
 "metadata": {
  "kernelspec": {
   "display_name": "Python 3",
   "language": "python",
   "name": "python3"
  },
  "language_info": {
   "codemirror_mode": {
    "name": "ipython",
    "version": 3
   },
   "file_extension": ".py",
   "mimetype": "text/x-python",
   "name": "python",
   "nbconvert_exporter": "python",
   "pygments_lexer": "ipython3",
   "version": "3.7.3"
  }
 },
 "nbformat": 4,
 "nbformat_minor": 2
}
