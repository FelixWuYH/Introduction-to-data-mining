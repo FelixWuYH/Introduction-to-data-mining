{
 "cells": [
  {
   "cell_type": "markdown",
   "metadata": {},
   "source": [
    "1. Compound Data Types  \n",
    "python dictionary:  \n",
    "    a dictionary has a key: value pair."
   ]
  },
  {
   "cell_type": "code",
   "execution_count": 1,
   "metadata": {},
   "outputs": [
    {
     "name": "stdout",
     "output_type": "stream",
     "text": [
      "original score of 10808123 is 80\n",
      "original score of 10888999 is 90\n",
      "new score of 10808123 is 100\n",
      "10808123 score is 100\n",
      "10888999 score is 90\n",
      "{'10808123': 100, '10888999': 90}\n",
      "print out keys\n",
      "10808123\n",
      "10888999\n",
      "print out values\n",
      "100\n",
      "90\n",
      "{'10808123': 100, '10888999': 90, '10588888': 88}\n",
      "delete 10888999\n",
      "{'10808123': 100, '10588888': 88}\n",
      "name 'my_dict' is not defined\n"
     ]
    }
   ],
   "source": [
    "#key is studentID and value is score\n",
    "my_dict = {'10808123':80, '10888999': 90}\n",
    "\n",
    "# find score of 10808123 in two ways\n",
    "print(\"original score of 10808123 is\",format(my_dict['10808123']))\n",
    "print(\"original score of 10888999 is\",format(my_dict.get('10888999')))\n",
    "\n",
    "#update the value\n",
    "my_dict['10808123'] =  100 #change 80 to 100\n",
    "print(\"new score of 10808123 is\",format(my_dict['10808123']))\n",
    "\n",
    "#print out both key and value \n",
    "#using for loop\n",
    "for key, value in my_dict.items():\n",
    "    print(\"{} score is {}\".format(key,value))\n",
    "#print directly\n",
    "print(my_dict)\n",
    "\n",
    "#print out keys\n",
    "print(\"print out keys\")\n",
    "for key in my_dict.keys():\n",
    "    print(key)\n",
    "\n",
    "#print out values\n",
    "print(\"print out values\")\n",
    "for value in my_dict.values():\n",
    "    print(value)\n",
    "\n",
    "#insert\n",
    "my_dict['10588888'] = 88 \n",
    "print(my_dict)\n",
    "\n",
    "#delete item\n",
    "print(\"delete 10888999\")\n",
    "my_dict.pop(\"10888999\")\n",
    "print(my_dict)\n",
    "\n",
    "#delete dictionary\n",
    "del my_dict\n",
    "try:\n",
    "    print(my_dict)\n",
    "except:\n",
    "    print(\"name 'my_dict' is not defined\")\n"
   ]
  },
  {
   "cell_type": "markdown",
   "metadata": {},
   "source": [
    "2. User-Defined Functions"
   ]
  },
  {
   "cell_type": "code",
   "execution_count": 2,
   "metadata": {},
   "outputs": [
    {
     "name": "stdout",
     "output_type": "stream",
     "text": [
      "before  [45, 41, 44, 50, 66, 14, 79, 56, 11, 16, 12, 43, 73, 88, 98, 27, 80, 76, 35, 57, 6, 0, 34, 88, 68]\n",
      "after  [0, 6, 11, 12, 14, 16, 27, 34, 35, 41, 43, 44, 45, 50, 56, 57, 66, 68, 73, 76, 79, 80, 88, 88, 98]\n"
     ]
    }
   ],
   "source": [
    "import random\n",
    "\n",
    "def bubbleSort(data):\n",
    "    for i in range(0,len(data)-1):\n",
    "        for j in range(0,len(data)-1-i):\n",
    "            if( data[j] > data[j+1]):\n",
    "                temp = data[j]\n",
    "                data[j] = data[j+1]\n",
    "                data[j+1] = temp\n",
    "\n",
    "    return data\n",
    "\n",
    "data = [random.randint(0, 100) for _ in range(25)] \n",
    "print(\"before \",data)\n",
    "print(\"after \",bubbleSort(data))"
   ]
  },
  {
   "cell_type": "markdown",
   "metadata": {},
   "source": [
    "3. File I/O  \n",
    "1.get Bank Marketing data set from UCL  \n",
    "2.simple file I/O"
   ]
  },
  {
   "cell_type": "code",
   "execution_count": 4,
   "metadata": {},
   "outputs": [
    {
     "name": "stdout",
     "output_type": "stream",
     "text": [
      "4119\n",
      "  age;\"job\";\"marital\";\"education\";\"default\";\"housing\";\"loan\";\"contact\";\"month\";\"day_of_week\";\"duration\";\"campaign\";\"pdays\";\"previous\";\"poutcome\";\"emp.var.rate\";\"cons.price.idx\";\"cons.conf.idx\";\"euribor3m\";\"nr.employed\";\"y\"\n",
      "0  30;\"blue-collar\";\"married\";\"basic.9y\";\"no\";\"ye...                                                                                                                                                                          \n",
      "1  39;\"services\";\"single\";\"high.school\";\"no\";\"no\"...                                                                                                                                                                          \n",
      "2  25;\"services\";\"married\";\"high.school\";\"no\";\"ye...                                                                                                                                                                          \n",
      "3  38;\"services\";\"married\";\"basic.9y\";\"no\";\"unkno...                                                                                                                                                                          \n",
      "4  47;\"admin.\";\"married\";\"university.degree\";\"no\"...                                                                                                                                                                          \n"
     ]
    }
   ],
   "source": [
    "#1.get Bank Marketing data set from UCL\n",
    "import requests, zipfile,io,pandas\n",
    "#input data set from UCL\n",
    "zip_file_url = 'http://archive.ics.uci.edu/ml/machine-learning-databases/00222/bank-additional.zip'\n",
    "r = requests.get(zip_file_url) #抓網路上的zip黨\n",
    "z = zipfile.ZipFile(io.BytesIO(r.content)) #解壓縮\n",
    "df = pandas.read_csv(z.open('bank-additional/bank-additional.csv')) # 讀取壓所黨中的CSV黨\n",
    "print(len(df))\n",
    "print(df.head()) #列出前五筆\n",
    "#output CSV\n",
    "df.to_csv(r'csvoutput.csv')\n"
   ]
  },
  {
   "cell_type": "code",
   "execution_count": 5,
   "metadata": {},
   "outputs": [
    {
     "name": "stdout",
     "output_type": "stream",
     "text": [
      "Before:  [0, 6, 11, 12, 14, 16, 27, 34, 35, 41, 43, 44, 45, 50, 56, 57, 66, 68, 73, 76, 79, 80, 88, 88, 98]\n",
      "After:  [0, 6, 11, 12, 14, 16, 27, 34, 35, 41, 43, 44, 45, 50, 56, 57, 66, 68, 73, 76, 79, 80, 88, 88, 98]\n"
     ]
    }
   ],
   "source": [
    "#2.simple file I/O\n",
    "\n",
    "#output\n",
    "print(\"Before: \",data)\n",
    "fp = open('input.txt','w') #打開此檔，若不存在就建一個\n",
    "fp.write(' '.join(list(map(str,data)))) # 寫黨 把第二題的結果寫進去\n",
    "fp.close()\n",
    "\n",
    "#input\n",
    "F = open('input.txt','r') #開黨\n",
    "data = list(map(int, F.read().split())) #讀黨\n",
    "print(\"After: \",data)\n",
    "fp.close()"
   ]
  },
  {
   "cell_type": "code",
   "execution_count": null,
   "metadata": {},
   "outputs": [],
   "source": []
  }
 ],
 "metadata": {
  "kernelspec": {
   "display_name": "Python 3",
   "language": "python",
   "name": "python3"
  },
  "language_info": {
   "codemirror_mode": {
    "name": "ipython",
    "version": 3
   },
   "file_extension": ".py",
   "mimetype": "text/x-python",
   "name": "python",
   "nbconvert_exporter": "python",
   "pygments_lexer": "ipython3",
   "version": "3.6.5"
  }
 },
 "nbformat": 4,
 "nbformat_minor": 2
}
