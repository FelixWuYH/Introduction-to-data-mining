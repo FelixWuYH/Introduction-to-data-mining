{
 "cells": [
  {
   "cell_type": "markdown",
   "metadata": {},
   "source": [
    "## 1.2 Compound Data Types\n",
    "\n",
    "The following examples show how to create and manipulate a list object"
   ]
  },
  {
   "cell_type": "code",
   "execution_count": 1,
   "metadata": {},
   "outputs": [
    {
     "name": "stdout",
     "output_type": "stream",
     "text": [
      "94\n",
      "[85, 81, 25, 100, 59, 42, 11, 56, 64, 5, 28, 62, 11, 37, 92]\n",
      "[5, 11, 11, 25, 28, 37, 42, 56, 59, 62, 64, 81, 85, 92, 100]\n"
     ]
    }
   ],
   "source": [
    "import random\n",
    "print(random.randint(1,100))\n",
    "outlist = []\n",
    "for times in range(15):\n",
    "    outlist.append(random.randint(1,100))\n",
    "print(outlist)\n",
    "outlist.sort()\n",
    "print(outlist)"
   ]
  },
  {
   "cell_type": "markdown",
   "metadata": {},
   "source": [
    "## 1.4 User-Defined Functions\n",
    "\n",
    "You can create your own functions in Python, which can be named or unnamed. Unnamed functions are defined using the lambda keyword as shown in the previous example for sorting a list of tuples. "
   ]
  },
  {
   "cell_type": "code",
   "execution_count": 10,
   "metadata": {},
   "outputs": [
    {
     "name": "stdout",
     "output_type": "stream",
     "text": [
      "[75, 8, 56, 23, 35, 7, 25, 87, 13, 75, 78, 69, 63, 46, 54]\n",
      "min :  7\n",
      "max :  87\n"
     ]
    }
   ],
   "source": [
    "import math\n",
    "import random\n",
    "\n",
    "def get_min_max(inlist):\n",
    "    inlist.sort()\n",
    "    return inlist[0], inlist[-1]\n",
    "\n",
    "mylist = []\n",
    "for times in range(15):\n",
    "    mylist.append(random.randint(1,100))\n",
    "print(mylist)\n",
    "min,max = get_min_max(mylist)\n",
    "print(\"min : \", min)\n",
    "print(\"max : \", max)    "
   ]
  },
  {
   "cell_type": "markdown",
   "metadata": {},
   "source": [
    "## 1.5 File I/O\n",
    "\n",
    "You can read and write data from a list or other objects to a file."
   ]
  },
  {
   "cell_type": "code",
   "execution_count": 2,
   "metadata": {},
   "outputs": [],
   "source": [
    "from selenium import webdriver\n",
    "from selenium.webdriver.common.keys import Keys\n",
    "import json\n",
    "driver_path = \"/Users/admin/Downloads/chromedriver\"\n",
    "driver = webdriver.Chrome(executable_path = driver_path)\n",
    "driver.get(\"http://www.imdb.com/\")\n",
    "\n",
    "movie_name = \"La La Land\"\n",
    "query_elem = driver.find_element_by_css_selector('#navbar-query')\n",
    "query_elem.send_keys(movie_name)\n",
    "\n",
    "submit_btn = driver.find_element_by_xpath(\"//button[@id='navbar-submit-button']\")\n",
    "submit_btn.click()\n",
    "first_result_elem = driver.find_element_by_css_selector(\"#findSubHeader+ .findSection .odd:nth-child(1) .result_text a\")\n",
    "first_result_elem.click()\n",
    "\n",
    "rating = driver.find_element_by_xpath(\"//strong/span\").text\n",
    "driver.close()\n",
    "movie_info = {\n",
    "        \"movie_name\" : movie_name,\n",
    "        \"rating\" : rating,\n",
    "}\n",
    "\n",
    "with open(\"movie.json\", 'w') as outfile:\n",
    "    json.dump(movie_info, outfile)"
   ]
  },
  {
   "cell_type": "code",
   "execution_count": null,
   "metadata": {},
   "outputs": [],
   "source": []
  }
 ],
 "metadata": {
  "kernelspec": {
   "display_name": "Python 3",
   "language": "python",
   "name": "python3"
  },
  "language_info": {
   "codemirror_mode": {
    "name": "ipython",
    "version": 3
   },
   "file_extension": ".py",
   "mimetype": "text/x-python",
   "name": "python",
   "nbconvert_exporter": "python",
   "pygments_lexer": "ipython3",
   "version": "3.6.5"
  }
 },
 "nbformat": 4,
 "nbformat_minor": 2
}
