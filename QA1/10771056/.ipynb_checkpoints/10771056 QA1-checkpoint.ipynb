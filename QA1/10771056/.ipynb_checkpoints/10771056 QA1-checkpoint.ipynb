{
 "cells": [
  {
   "cell_type": "code",
   "execution_count": 1,
   "metadata": {},
   "outputs": [
    {
     "name": "stdout",
     "output_type": "stream",
     "text": [
      "my_matrix:\n",
      " [[1 2 7]\n",
      " [8 2 0]\n",
      " [6 3 1]\n",
      " [5 4 1]\n",
      " [9 0 1]]\n",
      "Dimension of my_matrix:\n",
      " 2\n",
      "Shape of my_matrix:\n",
      " (5, 3)\n",
      "Total row number of my_matrix:\n",
      " 5\n",
      "Total column number of my_matrix:\n",
      " 3\n",
      "Type of the elements in _matrix:\n",
      " int32\n",
      "Size in bytes of each element of my_matrix:\n",
      " 4\n",
      "Total number of elements in my_matrix:\n",
      " 15\n",
      "Is there a 1 value in my_matrix?\n",
      " True\n",
      "Where is value 1 in my_matrix?\n",
      " row: [0 2 3 4] \n",
      "column: [0 2 2 2]\n",
      "Transpose of my_matrix:n [[1 8 6 5 9]\n",
      " [2 2 3 4 0]\n",
      " [7 0 1 1 1]]\n",
      "The first row of the transpose matrix:\n",
      " [1 8 6 5 9]\n",
      "Sort the elementsn my_matrix with descending order:\n",
      " [9 8 7 6 5 4 3 2 2 1 1 1 1 0 0]\n"
     ]
    }
   ],
   "source": [
    "import numpy as np\n",
    "my_matrix=np.array([[1,2,7],[8,2,0],[6,3,1],[5,4,1],[9,0,1]])\n",
    "print('my_matrix:\\n',my_matrix)\n",
    "print('Dimension of my_matrix:\\n',my_matrix.ndim)\n",
    "print('Shape of my_matrix:\\n',my_matrix.shape)\n",
    "print('Total row number of my_matrix:\\n',my_matrix.shape[0])\n",
    "print('Total column number of my_matrix:\\n',my_matrix.shape[1])\n",
    "print('Type of the elements in _matrix:\\n',my_matrix.dtype.name)\n",
    "print('Size in bytes of each element of my_matrix:\\n',my_matrix.itemsize)\n",
    "print('Total number of elements in my_matrix:\\n',my_matrix.size)\n",
    "my_matrix0 = my_matrix==1\n",
    "my_matrix0\n",
    "print('Is there a 1 value in my_matrix?\\n',my_matrix0.any()==True)\n",
    "print('Where is value 1 in my_matrix?\\n','row:',np.where(my_matrix0)[0],'\\ncolumn:',np.where(my_matrix0)[1])\n",
    "print('Transpose of my_matrix:n',my_matrix.T)\n",
    "my_matrix_T = my_matrix.T\n",
    "print('The first row of the transpose matrix:\\n',my_matrix_T[0,:])\n",
    "print('Sort the elementsn my_matrix with descending order:\\n',-np.sort(-my_matrix,axis=None))\n"
   ]
  },
  {
   "cell_type": "code",
   "execution_count": 2,
   "metadata": {},
   "outputs": [
    {
     "name": "stdout",
     "output_type": "stream",
     "text": [
      "My name is Lee Yi Shan\n",
      "I am from Chemical Engineering Department , Computer Process System Engineering Lab\n",
      "I came from Malaysia\n"
     ]
    }
   ],
   "source": [
    "def my_intro(name,department,lab,country):\n",
    "    print('My name is',name)\n",
    "    print('I am from',department,',',lab)\n",
    "    print('I came from',country)\n",
    "    return \n",
    "\n",
    "name = \"Lee Yi Shan\"\n",
    "department = 'Chemical Engineering Department'\n",
    "lab = 'Computer Process System Engineering Lab'\n",
    "country = 'Malaysia'\n",
    "\n",
    "my_intro(name,department,lab,country)"
   ]
  },
  {
   "cell_type": "code",
   "execution_count": 3,
   "metadata": {},
   "outputs": [
    {
     "name": "stdout",
     "output_type": "stream",
     "text": [
      "[1 8 6 5 9]\n",
      "[2 2 3 4 0]\n",
      "[7 0 1 1 1]\n"
     ]
    }
   ],
   "source": [
    "import scipy.io as sio\n",
    "my_array1 = my_matrix_T[0,:]\n",
    "print(my_array1)\n",
    "my_array2 = my_matrix_T[1,:]\n",
    "print(my_array2)\n",
    "my_array3 = my_matrix_T[2,:]\n",
    "print(my_array3)\n",
    "sio.savemat('my_array',{'row1':my_array1,'row2':my_array2,'row3':my_array3})"
   ]
  },
  {
   "cell_type": "code",
   "execution_count": 4,
   "metadata": {},
   "outputs": [
    {
     "name": "stdout",
     "output_type": "stream",
     "text": [
      "[[1 8 6 5 9]]\n",
      "[[2 2 3 4 0]]\n",
      "[[7 0 1 1 1]]\n"
     ]
    }
   ],
   "source": [
    "my_array = sio.loadmat('my_array')\n",
    "print(my_array['row1'])\n",
    "print(my_array['row2'])\n",
    "print(my_array['row3'])\n"
   ]
  }
 ],
 "metadata": {
  "kernelspec": {
   "display_name": "Python 3",
   "language": "python",
   "name": "python3"
  },
  "language_info": {
   "codemirror_mode": {
    "name": "ipython",
    "version": 3
   },
   "file_extension": ".py",
   "mimetype": "text/x-python",
   "name": "python",
   "nbconvert_exporter": "python",
   "pygments_lexer": "ipython3",
   "version": "3.6.5"
  }
 },
 "nbformat": 4,
 "nbformat_minor": 2
}
