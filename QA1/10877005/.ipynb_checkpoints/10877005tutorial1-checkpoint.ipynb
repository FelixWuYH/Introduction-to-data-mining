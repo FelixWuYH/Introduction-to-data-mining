{
 "cells": [
  {
   "cell_type": "markdown",
   "metadata": {},
   "source": [
    " 1. Compound Data Types\n",
    " numpy是學習資料科學的常見套件，Numpy的陣列就像是Python內建的list型態，但提供更有效率的儲存和操作。\n",
    " 以下介紹numpy常見的三種函數zeros（）、ones（）、empty（）。"
   ]
  },
  {
   "cell_type": "code",
   "execution_count": 2,
   "metadata": {},
   "outputs": [],
   "source": [
    "import numpy"
   ]
  },
  {
   "cell_type": "code",
   "execution_count": 3,
   "metadata": {},
   "outputs": [],
   "source": [
    "import numpy as num"
   ]
  },
  {
   "cell_type": "code",
   "execution_count": 1,
   "metadata": {},
   "outputs": [
    {
     "name": "stdout",
     "output_type": "stream",
     "text": [
      "num.zeros( (2,4) ): \n"
     ]
    },
    {
     "ename": "NameError",
     "evalue": "name 'num' is not defined",
     "output_type": "error",
     "traceback": [
      "\u001b[1;31m---------------------------------------------------------------------------\u001b[0m",
      "\u001b[1;31mNameError\u001b[0m                                 Traceback (most recent call last)",
      "\u001b[1;32m<ipython-input-1-0550d168ea3e>\u001b[0m in \u001b[0;36m<module>\u001b[1;34m()\u001b[0m\n\u001b[0;32m      1\u001b[0m \u001b[1;31m#zeros() ─ 創建二列四行的陣列,常用於賦予初始值\u001b[0m\u001b[1;33m\u001b[0m\u001b[1;33m\u001b[0m\u001b[0m\n\u001b[0;32m      2\u001b[0m \u001b[0mprint\u001b[0m\u001b[1;33m(\u001b[0m \u001b[1;34m\"num.zeros( (2,4) ): \"\u001b[0m\u001b[1;33m)\u001b[0m\u001b[1;33m\u001b[0m\u001b[0m\n\u001b[1;32m----> 3\u001b[1;33m \u001b[0mprint\u001b[0m\u001b[1;33m(\u001b[0m\u001b[0mnum\u001b[0m\u001b[1;33m.\u001b[0m\u001b[0mzeros\u001b[0m\u001b[1;33m(\u001b[0m \u001b[1;33m(\u001b[0m\u001b[1;36m2\u001b[0m\u001b[1;33m,\u001b[0m\u001b[1;36m4\u001b[0m\u001b[1;33m)\u001b[0m \u001b[1;33m)\u001b[0m\u001b[1;33m)\u001b[0m\u001b[1;33m\u001b[0m\u001b[0m\n\u001b[0m\u001b[0;32m      4\u001b[0m \u001b[0mprint\u001b[0m\u001b[1;33m(\u001b[0m\u001b[0mnum\u001b[0m\u001b[1;33m.\u001b[0m\u001b[0mzeros\u001b[0m\u001b[1;33m(\u001b[0m\u001b[1;36m2\u001b[0m\u001b[1;33m,\u001b[0m\u001b[1;36m4\u001b[0m\u001b[1;33m)\u001b[0m\u001b[1;33m)\u001b[0m\u001b[1;33m\u001b[0m\u001b[0m\n\u001b[0;32m      5\u001b[0m \u001b[1;33m\u001b[0m\u001b[0m\n",
      "\u001b[1;31mNameError\u001b[0m: name 'num' is not defined"
     ]
    }
   ],
   "source": [
    "#zeros() ─ 創建二列四行的陣列,常用於賦予初始值\n",
    "print( \"num.zeros( (2,4) ): \")\n",
    "print(num.zeros( (2,4) ))\n",
    "print(num.zeros(2,4))\n",
    "\n",
    "#ones() ─ 可創建任意維度和元素個數，且元素值均為1\n",
    "print( \"num.ones( (2,3,4), dtype = num.int16 ): \") #dtype:數據類型，可選參數，默認numpy.float64\n",
    "print(num.ones( (2,3,4), dtype = num.int16 ) )\n",
    "print()\n",
    "\n",
    "#empty() ─ 元素值均為0\n",
    "print( \"num.empty( (2,2) ): \")\n",
    "print(num.empty( (2,2) ) ) "
   ]
  },
  {
   "cell_type": "markdown",
   "metadata": {},
   "source": [
    "2. User-Defined Functions"
   ]
  },
  {
   "cell_type": "code",
   "execution_count": 41,
   "metadata": {},
   "outputs": [
    {
     "data": {
      "text/plain": [
       "20"
      ]
     },
     "execution_count": 41,
     "metadata": {},
     "output_type": "execute_result"
    }
   ],
   "source": [
    "def max(a, b): #定義名為max的函式\n",
    "    return a if a > b else b\n",
    "maximum = max # max 指向的函式指定給 maximum 變數\n",
    "maximum(10, 20) # 傳回較大值"
   ]
  },
  {
   "cell_type": "markdown",
   "metadata": {},
   "source": [
    "3. File I/O"
   ]
  },
  {
   "cell_type": "code",
   "execution_count": 69,
   "metadata": {},
   "outputs": [
    {
     "name": "stdout",
     "output_type": "stream",
     "text": [
      "Hello, m\n"
     ]
    }
   ],
   "source": [
    "#打開檔案 open(檔案名稱,模式) , 模式:r唯讀、w覆寫、a續寫\n",
    "myfile = open ( \"test.txt\" , \"r\" ) \n",
    "\n",
    "#讀取檔案\n",
    "#用size指定電腦自動讀取的字節數量,沒有設定就會讀取整個檔案\n",
    "words= myfile.read(8)\n",
    "print(words)\n",
    "\n",
    "#關閉檔案\n",
    "myfile.close()\n",
    "\n",
    "    "
   ]
  },
  {
   "cell_type": "code",
   "execution_count": 73,
   "metadata": {},
   "outputs": [],
   "source": [
    "#打開檔案\n",
    "myfile2 = open('test2.txt', 'w')\n",
    "#寫入檔案\n",
    "myfile2.write(\"Hello, nice to meet you.\")\n",
    "#關閉檔案\n",
    "myfile2.close()"
   ]
  },
  {
   "cell_type": "code",
   "execution_count": null,
   "metadata": {},
   "outputs": [],
   "source": []
  }
 ],
 "metadata": {
  "kernelspec": {
   "display_name": "Python 3",
   "language": "python",
   "name": "python3"
  },
  "language_info": {
   "codemirror_mode": {
    "name": "ipython",
    "version": 3
   },
   "file_extension": ".py",
   "mimetype": "text/x-python",
   "name": "python",
   "nbconvert_exporter": "python",
   "pygments_lexer": "ipython3",
   "version": "3.6.5"
  }
 },
 "nbformat": 4,
 "nbformat_minor": 2
}
