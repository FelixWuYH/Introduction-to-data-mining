{
 "cells": [
  {
   "cell_type": "markdown",
   "metadata": {},
   "source": [
    "# 1.Compound Data Types"
   ]
  },
  {
   "cell_type": "code",
   "execution_count": 3,
   "metadata": {},
   "outputs": [
    {
     "name": "stdout",
     "output_type": "stream",
     "text": [
      "False\n"
     ]
    }
   ],
   "source": [
    "arry_1 = [2,4,6,8,10]\n",
    "arry_2 = [3,4,6,7,8,9,10]\n",
    "arry_1 in arry_2\n",
    "print(arry_1 in arry_2) # equality comparison"
   ]
  },
  {
   "cell_type": "markdown",
   "metadata": {},
   "source": [
    "# 2.Functions"
   ]
  },
  {
   "cell_type": "code",
   "execution_count": 2,
   "metadata": {},
   "outputs": [
    {
     "name": "stdout",
     "output_type": "stream",
     "text": [
      "# # # # # # # # # # \n",
      "# # # # # # # # # # \n",
      "# # # # # # # # # # \n",
      "# # # # # # # # # # \n",
      "# # # # # # # # # # \n",
      "# # # # # # # # # # \n",
      "# # # # # # # # # # \n",
      "# # # # # # # # # # \n",
      "# # # # # # # # # # \n",
      "# # # # # # # # # # \n"
     ]
    }
   ],
   "source": [
    "def square(lenght=2):\n",
    "    for i in range(lenght):\n",
    "        print('# ' *lenght)\n",
    "    \n",
    "square(10)"
   ]
  },
  {
   "cell_type": "markdown",
   "metadata": {},
   "source": [
    "# 3.File I/O"
   ]
  },
  {
   "cell_type": "code",
   "execution_count": 3,
   "metadata": {},
   "outputs": [
    {
     "name": "stdout",
     "output_type": "stream",
     "text": [
      "aplle!!!\n"
     ]
    }
   ],
   "source": [
    "f = open('fruit.txt', 'w')\n",
    "f.write(\"aplle!!!\")\n",
    "f.close()\n",
    "\n",
    "f = open('fruit.txt', 'r')\n",
    "words = f.read()\n",
    "print(words)\n",
    "f.close()"
   ]
  }
 ],
 "metadata": {
  "kernelspec": {
   "display_name": "Python 3",
   "language": "python",
   "name": "python3"
  },
  "language_info": {
   "codemirror_mode": {
    "name": "ipython",
    "version": 3
   },
   "file_extension": ".py",
   "mimetype": "text/x-python",
   "name": "python",
   "nbconvert_exporter": "python",
   "pygments_lexer": "ipython3",
   "version": "3.6.5"
  }
 },
 "nbformat": 4,
 "nbformat_minor": 2
}
