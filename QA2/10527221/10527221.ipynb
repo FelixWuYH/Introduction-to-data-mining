{
 "cells": [
  {
   "cell_type": "markdown",
   "metadata": {},
   "source": [
    "# 使用Iris資料集實作PCA降維 \n",
    "---\n",
    "by 10527221 彭千湖"
   ]
  },
  {
   "cell_type": "code",
   "execution_count": 1,
   "metadata": {},
   "outputs": [],
   "source": [
    "import matplotlib.pyplot as plt\n",
    "import numpy as np\n",
    "from mpl_toolkits.mplot3d import Axes3D\n",
    "from sklearn import datasets\n",
    "\n",
    "# load Iris datasets\n",
    "iris = datasets.load_iris()\n",
    "\n",
    "from sklearn.decomposition import PCA"
   ]
  },
  {
   "cell_type": "code",
   "execution_count": 2,
   "metadata": {},
   "outputs": [
    {
     "name": "stdout",
     "output_type": "stream",
     "text": [
      "data (150, 4)\n",
      "target (150,)\n",
      "target_names (3,)\n",
      "DESCR\n",
      "feature_names\n",
      "filename\n",
      "['sepal length (cm)', 'sepal width (cm)', 'petal length (cm)', 'petal width (cm)']\n",
      "[[5.1 3.5 1.4 0.2]\n",
      " [4.9 3.  1.4 0.2]\n",
      " [4.7 3.2 1.3 0.2]\n",
      " [4.6 3.1 1.5 0.2]]\n"
     ]
    }
   ],
   "source": [
    "for key,value in iris.items() :\n",
    "    try:\n",
    "        print (key,value.shape)\n",
    "    except:\n",
    "        print (key)\n",
    "print(iris['feature_names'])\n",
    "print(iris.data[:4])"
   ]
  },
  {
   "cell_type": "code",
   "execution_count": 3,
   "metadata": {},
   "outputs": [
    {
     "data": {
      "text/plain": [
       "array([[-2.68412563, -0.31939725],\n",
       "       [-2.71414169,  0.17700123],\n",
       "       [-2.88899057,  0.14494943],\n",
       "       [-2.74534286,  0.31829898]])"
      ]
     },
     "execution_count": 3,
     "metadata": {},
     "output_type": "execute_result"
    }
   ],
   "source": [
    "# original iris data have 4 features\n",
    "iris_4d = np.array(iris.data)\n",
    "\n",
    "# find the mean\n",
    "meanVals = np.mean(iris_4d, axis= 0) \n",
    "\n",
    "# mean remove\n",
    "meanRemoveVals = iris_4d - meanVals\n",
    "\n",
    "# find Covariance\n",
    "covVals = np.cov(meanRemoveVals, rowvar=0)\n",
    "\n",
    "# find Eigenvector and Eigenvalue\n",
    "eigVals, eigVects = np.linalg.eig(covVals)\n",
    "\n",
    "# sort from smallest to largest\n",
    "eigValIndex = np.argsort(eigVals)\n",
    "\n",
    "# cut off unwanted dimensions\n",
    "eigValIndex = eigValIndex[:-3:-1]\n",
    "\n",
    "# reorganize eig vects largest to smallest\n",
    "redEigVects = eigVects[:,eigValIndex]\n",
    "\n",
    "\n",
    "iris_2d = np.dot(meanRemoveVals, redEigVects)\n",
    "iris_2d[:4]"
   ]
  },
  {
   "cell_type": "code",
   "execution_count": 4,
   "metadata": {},
   "outputs": [
    {
     "data": {
      "image/png": "[encoded data removed]",
      "text/plain": [
       "<Figure size 432x288 with 1 Axes>"
      ]
     },
     "metadata": {
      "needs_background": "light"
     },
     "output_type": "display_data"
    }
   ],
   "source": [
    "y = iris.target\n",
    "\n",
    "red_x,red_y=[],[]\n",
    "blue_x,blue_y=[],[]\n",
    "green_x,green_y=[],[]\n",
    "\n",
    "\n",
    "for i in range(len(iris_2d)):\n",
    "    if y[i] ==0:\n",
    "        red_x.append(iris_2d[i][0])\n",
    "        red_y.append(iris_2d[i][1])\n",
    "\n",
    "    elif y[i]==1:\n",
    "        blue_x.append(iris_2d[i][0])\n",
    "        blue_y.append(iris_2d[i][1])\n",
    "\n",
    "    else:\n",
    "        green_x.append(iris_2d[i][0])\n",
    "        green_y.append(iris_2d[i][1])\n",
    "\n",
    "plt.scatter(red_x,red_y,c='r')\n",
    "plt.scatter(blue_x,blue_y,c='b')\n",
    "plt.scatter(green_x,green_y,c='g')\n",
    "plt.show()"
   ]
  },
  {
   "cell_type": "code",
   "execution_count": null,
   "metadata": {},
   "outputs": [],
   "source": []
  }
 ],
 "metadata": {
  "kernelspec": {
   "display_name": "Python 3",
   "language": "python",
   "name": "python3"
  },
  "language_info": {
   "codemirror_mode": {
    "name": "ipython",
    "version": 3
   },
   "file_extension": ".py",
   "mimetype": "text/x-python",
   "name": "python",
   "nbconvert_exporter": "python",
   "pygments_lexer": "ipython3",
   "version": "3.7.4"
  }
 },
 "nbformat": 4,
 "nbformat_minor": 2
}
