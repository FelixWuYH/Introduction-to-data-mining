{
 "cells": [
  {
   "cell_type": "code",
   "execution_count": 4,
   "metadata": {},
   "outputs": [],
   "source": [
    "def Wavelet_coefficients(data,detail_coe):\n",
    "    avg = []\n",
    "    temp_detail = []\n",
    "    for i in range(1,len(data),2):\n",
    "        temp_detail.append((data[i]+data[i-1])/2 - data[i])\n",
    "        avg.append((data[i]+data[i-1])/2)\n",
    "    detail_coe = temp_detail + detail_coe\n",
    "    if len(avg) == 1:\n",
    "        ans = avg + detail_coe\n",
    "        return ans\n",
    "    else:\n",
    "        return Wavelet_coefficients(avg,detail_coe)\n"
   ]
  },
  {
   "cell_type": "code",
   "execution_count": 15,
   "metadata": {},
   "outputs": [],
   "source": [
    "def Lowest_level_as_zeros(data):\n",
    "    for i in range(int(len(data)/2),len(data)):\n",
    "        data[i] = 0\n",
    "    return data"
   ]
  },
  {
   "cell_type": "code",
   "execution_count": 20,
   "metadata": {},
   "outputs": [],
   "source": [
    "def Error_list(avg,detail):\n",
    "    res_avg = []    \n",
    "    for i in range(len(avg)):\n",
    "        #前\n",
    "        res_avg.append(avg[i]+ detail[0])\n",
    "        #後\n",
    "        res_avg.append(avg[i] - detail[0])\n",
    "\n",
    "        detail.pop(0)\n",
    "        \n",
    "    avg = res_avg\n",
    "    if not detail:\n",
    "        return avg\n",
    "    else:\n",
    "        return Error_list(avg,detail)\n",
    "        "
   ]
  },
  {
   "cell_type": "code",
   "execution_count": 21,
   "metadata": {},
   "outputs": [],
   "source": [
    "def cal_error(data,error_list):\n",
    "    error = 0\n",
    "    for i in range(len(data)):\n",
    "        error = error + abs(data[i]-error_list[i])\n",
    "    return error"
   ]
  },
  {
   "cell_type": "code",
   "execution_count": 22,
   "metadata": {},
   "outputs": [],
   "source": [
    "def Haar_Wavelet(data):\n",
    "    print(\"original data = \",data)\n",
    "    detail_coe = []\n",
    "    Wavelet_coe = Wavelet_coefficients(data,detail_coe)\n",
    "    print(\"Wavelet coefficients = \", Wavelet_coe)\n",
    "    Wavelet_coe = Lowest_level_as_zeros(Wavelet_coe)\n",
    "    print(\"treating lowest level as zeros -> \",Wavelet_coe)\n",
    "    error_list = Error_list(Wavelet_coe[0:1],Wavelet_coe[1:])\n",
    "    print(\"List of error = \",error_list)\n",
    "    print(\"error = \",cal_error(data,error_list))"
   ]
  },
  {
   "cell_type": "code",
   "execution_count": 23,
   "metadata": {},
   "outputs": [
    {
     "name": "stdout",
     "output_type": "stream",
     "text": [
      "-----------Contour----------\n",
      "original data =  [0, 2, 7, -2, 0, 0, -2, 2]\n",
      "Wavelet coefficients =  [0.875, 0.875, -0.75, 0.0, -1.0, 4.5, 0.0, -2.0]\n",
      "treating lowest level as zeros ->  [0.875, 0.875, -0.75, 0.0, 0, 0, 0, 0]\n",
      "List of error =  [1.0, 1.0, 2.5, 2.5, 0.0, 0.0, 0.0, 0.0]\n",
      "error =  15.0\n",
      "----------IOI_ratio--------\n",
      "original data =  [1, 1, 1, 1, 0.5, 1, 2, 1]\n",
      "Wavelet coefficients =  [1.0625, -0.0625, 0.0, -0.375, 0.0, 0.0, -0.25, 0.5]\n",
      "treating lowest level as zeros ->  [1.0625, -0.0625, 0.0, -0.375, 0, 0, 0, 0]\n",
      "List of error =  [1.0, 1.0, 1.0, 1.0, 0.75, 0.75, 1.5, 1.5]\n",
      "error =  1.5\n",
      "----------other data--------\n",
      "original data =  [1, 2, 3, 4, 5, 5, 7, 5, 7, 6, 4, 10, 2, 10, 15, 46]\n",
      "Wavelet coefficients =  [8.25, -4.25, -1.5, -5.75, -1.0, -0.5, -0.25, -12.25, -0.5, -0.5, 0.0, 1.0, 0.5, -3.0, -4.0, -15.5]\n",
      "treating lowest level as zeros ->  [8.25, -4.25, -1.5, -5.75, -1.0, -0.5, -0.25, -12.25, 0, 0, 0, 0, 0, 0, 0, 0]\n",
      "List of error =  [1.5, 1.5, 3.5, 3.5, 5.0, 5.0, 6.0, 6.0, 6.5, 6.5, 7.0, 7.0, 6.0, 6.0, 30.5, 30.5]\n",
      "error =  50.0\n"
     ]
    }
   ],
   "source": [
    "Contour = [0,2,7,-2,0,0,-2,2]\n",
    "IOI_ratio = [1,1,1,1,0.5,1,2,1]\n",
    "other_data = [1,2,3,4,5,5,7,5,7,6,4,10,2,10,15,46]\n",
    "print(\"-----------Contour----------\")\n",
    "Haar_Wavelet(Contour)\n",
    "print(\"----------IOI_ratio--------\")\n",
    "Haar_Wavelet(IOI_ratio)\n",
    "print(\"----------other data--------\")\n",
    "Haar_Wavelet(other_data)"
   ]
  },
  {
   "cell_type": "code",
   "execution_count": null,
   "metadata": {},
   "outputs": [],
   "source": []
  }
 ],
 "metadata": {
  "kernelspec": {
   "display_name": "Python 3",
   "language": "python",
   "name": "python3"
  },
  "language_info": {
   "codemirror_mode": {
    "name": "ipython",
    "version": 3
   },
   "file_extension": ".py",
   "mimetype": "text/x-python",
   "name": "python",
   "nbconvert_exporter": "python",
   "pygments_lexer": "ipython3",
   "version": "3.7.4"
  }
 },
 "nbformat": 4,
 "nbformat_minor": 2
}
