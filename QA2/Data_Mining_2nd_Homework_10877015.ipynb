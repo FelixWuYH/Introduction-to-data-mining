{
 "cells": [
  {
   "cell_type": "markdown",
   "metadata": {
    "colab_type": "text",
    "id": "OnLuVBpJK_RE"
   },
   "source": [
    "Data mining second homework\n",
    "\n",
    "10877015\n",
    "\n",
    "資訊碩一 張凱甯"
   ]
  },
  {
   "cell_type": "markdown",
   "metadata": {
    "colab_type": "text",
    "id": "u5ScN-xbLNC7"
   },
   "source": [
    "Exercise 2.6 \n",
    "\n",
    "1. Cosine similarity\n",
    "\n",
    "2. Extended Jaccard\n",
    "\n",
    "3. Correlation\n"
   ]
  },
  {
   "cell_type": "code",
   "execution_count": 0,
   "metadata": {
    "colab": {
     "base_uri": "https://localhost:8080/",
     "height": 356
    },
    "colab_type": "code",
    "id": "3ulm1n8mK5E2",
    "outputId": "55481e4f-5b71-42aa-b00d-768385362037"
   },
   "outputs": [
    {
     "name": "stdout",
     "output_type": "stream",
     "text": [
      "此次隨機出的第五個資料(X5)為：[2 4 6]\n",
      "\n",
      "Q和X1的Cosine similarity為：1.0\n",
      "Q和X2的Cosine similarity為：0.5\n",
      "Q和X3的Cosine similarity為：0.0\n",
      "Q和X4的Cosine similarity為：0.0\n",
      "Q和X5的Cosine similarity為：0.57\n",
      "\n",
      "Q和X1的Extended Jaccard similarity為：0.67\n",
      "Q和X2的Extended Jaccard similarity為：0.33\n",
      "Q和X3的Extended Jaccard similarity為：0.0\n",
      "Q和X4的Extended Jaccard similarity為：0.0\n",
      "Q和X5的Extended Jaccard similarity為：-2.0\n",
      "\n",
      "Q和X1的Correlation為：1.0\n",
      "Q和X2的Correlation為：-0.5\n",
      "Q和X3的Correlation為：0.0\n",
      "Q和X4的Correlation為：-1.0\n",
      "Q和X5的Correlation為：-0.87\n"
     ]
    }
   ],
   "source": [
    "from sklearn.metrics.pairwise import cosine_similarity\n",
    "from sklearn import preprocessing as pre\n",
    "import numpy as np\n",
    "import random\n",
    "\n",
    "q = np.array([1, 1, 0])\n",
    "x1 = np.array([2, 2, 0])\n",
    "x2 = np.array([0, 1, 1])\n",
    "x3 = np.array([1, -1, 0])\n",
    "x4 = np.array([0, 0, 1])\n",
    "x5 = np.random.randint(10,size=3)\n",
    "#x1-x4和q為教授指定的矩陣，x5則是請系統自己Random一個出來\n",
    "size = np.size(q)\n",
    "#拿到矩陣的大小\n",
    "one_arr = np.ones(size)\n",
    "#設定一個全為一的矩陣\n",
    "\n",
    "normq = np.linalg.norm(q)\n",
    "normx1 = np.linalg.norm(x1)\n",
    "normx2 = np.linalg.norm(x2)\n",
    "normx3 = np.linalg.norm(x3)\n",
    "normx4 = np.linalg.norm(x4)\n",
    "normx5 = np.linalg.norm(x5)\n",
    "#這一部份是為了取得每個矩陣的範數\n",
    "\n",
    "dotQX1 = np.dot(q, x1)\n",
    "dotQX2 = np.dot(q, x2)\n",
    "dotQX3 = np.dot(q, x3)\n",
    "dotQX4 = np.dot(q, x4)\n",
    "dotQX5 = np.dot(q, x5)\n",
    "#取得q和該矩陣的內積\n",
    "\n",
    "stdq = np.std(q)\n",
    "stdx1 = np.std(x1)\n",
    "stdx2 = np.std(x2)\n",
    "stdx3 = np.std(x3)\n",
    "stdx4 = np.std(x4)\n",
    "stdx5 = np.std(x5)\n",
    "#取得該矩陣的標準差 \n",
    "\n",
    "meanq = np.mean(q)\n",
    "meanx1 = np.mean(x1)\n",
    "meanx2 = np.mean(x2)\n",
    "meanx3 = np.mean(x3)\n",
    "meanx4 = np.mean(x4)\n",
    "meanx5 = np.mean(x5)\n",
    "#取得該矩陣的mean值\n",
    "\n",
    "cosQX1 = dotQX1 / (normq * normx1)\n",
    "cosQX2 = dotQX2 / (normq * normx2)\n",
    "cosQX3 = dotQX3 / (normq * normx3)\n",
    "cosQX4 = dotQX4 / (normq * normx4)\n",
    "cosQX5 = dotQX5 / (normq * normx5)\n",
    "#取得該矩陣和q的Cosine Similarity，方法為：(內積值)/(範數1 + 範數2)\n",
    "\n",
    "e_jacQX1 = dotQX1 / (normq**2 + normx1**2 - dotQX1)\n",
    "e_jacQX2 = dotQX2 / (normq**2 + normx2**2 - dotQX2)\n",
    "e_jacQX3 = dotQX3 / (normq**2 + normx3**2 - dotQX3)\n",
    "e_jacQX4 = dotQX4 / (normq**2 + normx4**2 - dotQX4)\n",
    "e_jacQX5 = dotQX5 / (normq**2 + normx4**2 - dotQX5)\n",
    "#Extended Jaccard的求法為：(兩個矩陣的內積) /(範數1^2 +範數2^2 -兩個矩陣的內積) \n",
    "\n",
    "qp = (q - meanq * one_arr)/ (stdq * (size**(1/2)))\n",
    "x1p = (x1 - meanx1 * one_arr)/ (stdx1 * (size**(1/2)))\n",
    "x2p = (x2 - meanx2 * one_arr)/ (stdx2 * (size**(1/2)))\n",
    "x3p = (x3 - meanx3 * one_arr)/ (stdx3 * (size**(1/2)))\n",
    "x4p = (x4 - meanx4 * one_arr)/ (stdx4 * (size**(1/2)))\n",
    "x5p = (x5 - meanx5 * one_arr)/ (stdx5 * (size**(1/2)))\n",
    "#把每個矩陣進行標準化\n",
    "\n",
    "corQX1 = np.dot(qp, x1p)\n",
    "corQX2 = np.dot(qp, x2p)\n",
    "corQX3 = np.dot(qp, x3p)\n",
    "corQX4 = np.dot(qp, x4p)\n",
    "corQX5 = np.dot(qp, x5p)\n",
    "#Correlation的求法即為將兩個矩陣的標準化進行內積\n",
    "\n",
    "print(\"此次隨機出的第五個資料(X5)為：\"+ str(x5) )\n",
    "\n",
    "\n",
    "print(\"\\nQ和X1的Cosine similarity為：\"+ str(round(cosQX1, 2)))\n",
    "print(\"Q和X2的Cosine similarity為：\"+ str(round(cosQX2, 2)))\n",
    "print(\"Q和X3的Cosine similarity為：\"+ str(round(cosQX3, 2)))\n",
    "print(\"Q和X4的Cosine similarity為：\"+ str(round(cosQX4, 2)))\n",
    "print(\"Q和X5的Cosine similarity為：\"+ str(round(cosQX5, 2)))\n",
    "\n",
    "print(\"\\nQ和X1的Extended Jaccard similarity為：\" + str(round(e_jacQX1, 2)))\n",
    "print(\"Q和X2的Extended Jaccard similarity為：\" + str(round(e_jacQX2, 2)))\n",
    "print(\"Q和X3的Extended Jaccard similarity為：\" + str(round(e_jacQX3, 2)))\n",
    "print(\"Q和X4的Extended Jaccard similarity為：\" + str(round(e_jacQX4, 2)))\n",
    "print(\"Q和X5的Extended Jaccard similarity為：\" + str(round(e_jacQX5, 2)))\n",
    "\n",
    "\n",
    "print(\"\\nQ和X1的Correlation為：\"+str(round(corQX1, 2)))\n",
    "print(\"Q和X2的Correlation為：\"+str(round(corQX2, 2)))\n",
    "print(\"Q和X3的Correlation為：\"+str(round(corQX3, 2)))\n",
    "print(\"Q和X4的Correlation為：\"+str(round(corQX4, 2)))\n",
    "print(\"Q和X5的Correlation為：\"+str(round(corQX5, 2)))\n",
    "\n",
    "\n"
   ]
  }
 ],
 "metadata": {
  "colab": {
   "collapsed_sections": [],
   "name": "Data_Mining_2nd_Homework_10877015.ipynb",
   "provenance": []
  },
  "kernelspec": {
   "display_name": "Python 3",
   "language": "python",
   "name": "python3"
  },
  "language_info": {
   "codemirror_mode": {
    "name": "ipython",
    "version": 3
   },
   "file_extension": ".py",
   "mimetype": "text/x-python",
   "name": "python",
   "nbconvert_exporter": "python",
   "pygments_lexer": "ipython3",
   "version": "3.6.5"
  }
 },
 "nbformat": 4,
 "nbformat_minor": 1
}
