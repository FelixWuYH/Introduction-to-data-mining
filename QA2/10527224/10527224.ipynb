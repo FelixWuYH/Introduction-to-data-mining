{
 "cells": [
  {
   "cell_type": "markdown",
   "metadata": {},
   "source": [
    "Haar Wavelets for feature creation"
   ]
  },
  {
   "cell_type": "code",
   "execution_count": 36,
   "metadata": {},
   "outputs": [],
   "source": [
    "def haar(array): # Haar Wavelets\n",
    "    if len(array) == 1: # Resolution = 0\n",
    "        return array\n",
    "    else:\n",
    "        averages = []\n",
    "        for x in range(0, len(array), 2):\n",
    "            averages.append( (array[x]+array[x+1]) / 2 ) # (a + b) / 2\n",
    "        \n",
    "        high_coefficients = []\n",
    "        high_coefficients = haar(averages)\n",
    "        detail_coefficients = []\n",
    "        for x in  range(0, len(array), 2):\n",
    "            detail_coefficients.append((array[x]-array[x+1])/2)  # (a - b) / 2\n",
    "\n",
    "        high_coefficients.extend(detail_coefficients)    # 把下層算的coefficients接起來\n",
    "        return high_coefficients\n",
    "    \n",
    "def forward_transform(coefficents): # 把coefficents轉回\n",
    "    x = 0\n",
    "    averages = [coefficents.pop(0)]\n",
    "    while len(coefficents) != 0:\n",
    "        temp = coefficents.pop(0)\n",
    "        if x == len(averages):\n",
    "            x = 0\n",
    "        averages.insert(x, averages[x]+temp)\n",
    "        averages[x+1] -=temp\n",
    "        x+=2\n",
    "\n",
    "    return averages\n",
    "\n",
    "def error(array1, array2): # 計算error\n",
    "    value = 0\n",
    "    for x in range(0, len(array1)):\n",
    "        value += (array1[x]-array2[x]) * (array1[x]-array2[x])\n",
    "    \n",
    "    return value"
   ]
  },
  {
   "cell_type": "markdown",
   "metadata": {},
   "source": [
    "1. Contour (in semitones)\n",
    "    0 +2 +7 -2 0 0 -2 +2\n",
    "    Compute their wavelet coefficients"
   ]
  },
  {
   "cell_type": "code",
   "execution_count": 37,
   "metadata": {},
   "outputs": [
    {
     "name": "stdout",
     "output_type": "stream",
     "text": [
      "[0.875, 0.875, -0.75, 0.0, -1.0, 4.5, 0.0, -2.0]\n"
     ]
    }
   ],
   "source": [
    "array1 = [ 0, 2, 7, -2, 0, 0, -2, 2 ]\n",
    "coefficents1 = haar(array1)\n",
    "print (coefficents1)"
   ]
  },
  {
   "cell_type": "markdown",
   "metadata": {},
   "source": [
    "2. IOI (Inter onset interval) ratio\n",
    "    1 1 1 1 0.5 1 2 1\n",
    "    Compute their wavelet coefficients"
   ]
  },
  {
   "cell_type": "code",
   "execution_count": 38,
   "metadata": {},
   "outputs": [
    {
     "name": "stdout",
     "output_type": "stream",
     "text": [
      "[1.0625, -0.0625, 0.0, -0.375, 0.0, 0.0, -0.25, 0.5]\n"
     ]
    }
   ],
   "source": [
    "array2 = [ 1, 1, 1, 1, 0.5, 1, 2, 1 ]\n",
    "coefficents2 = haar(array2)\n",
    "print (coefficents2)"
   ]
  },
  {
   "cell_type": "markdown",
   "metadata": {},
   "source": [
    "Treat coefficients at the lowest level as zeros\n",
    "– Compare the errors"
   ]
  },
  {
   "cell_type": "code",
   "execution_count": 39,
   "metadata": {},
   "outputs": [
    {
     "name": "stdout",
     "output_type": "stream",
     "text": [
      "50.5\n"
     ]
    }
   ],
   "source": [
    "coefficents12 = [0.875, 0.875, -0.75, 0.0, 0, 0, 0, 0]  # 後四位改為0 \n",
    "array12 = forward_transform(coefficents12)\n",
    "print (error(array1, array12))"
   ]
  },
  {
   "cell_type": "code",
   "execution_count": 40,
   "metadata": {},
   "outputs": [
    {
     "name": "stdout",
     "output_type": "stream",
     "text": [
      "0.625\n"
     ]
    }
   ],
   "source": [
    "coefficents22= [1.0625, -0.0625, 0.0, -0.375, 0, 0, 0, 0] # 後四位改為0 \n",
    "array22 = forward_transform(coefficents22)\n",
    "print (error(array2, array22))"
   ]
  },
  {
   "cell_type": "code",
   "execution_count": null,
   "metadata": {},
   "outputs": [],
   "source": []
  }
 ],
 "metadata": {
  "kernelspec": {
   "display_name": "Python 3",
   "language": "python",
   "name": "python3"
  },
  "language_info": {
   "codemirror_mode": {
    "name": "ipython",
    "version": 3
   },
   "file_extension": ".py",
   "mimetype": "text/x-python",
   "name": "python",
   "nbconvert_exporter": "python",
   "pygments_lexer": "ipython3",
   "version": "3.7.3"
  }
 },
 "nbformat": 4,
 "nbformat_minor": 2
}
