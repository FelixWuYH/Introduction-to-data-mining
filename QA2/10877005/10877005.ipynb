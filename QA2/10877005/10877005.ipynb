{
 "cells": [
  {
   "cell_type": "markdown",
   "metadata": {},
   "source": [
    "# Data-Mining QA2: PCA Test"
   ]
  },
  {
   "cell_type": "markdown",
   "metadata": {},
   "source": [
    "________________________________\n"
   ]
  },
  {
   "cell_type": "code",
   "execution_count": 6,
   "metadata": {},
   "outputs": [],
   "source": [
    "#匯入模組\n",
    "import numpy as np\n",
    "import matplotlib.pyplot as plt\n",
    "import seaborn as sns; sns.set()"
   ]
  },
  {
   "cell_type": "code",
   "execution_count": 7,
   "metadata": {},
   "outputs": [
    {
     "name": "stdout",
     "output_type": "stream",
     "text": [
      "X= [[0 4]\n",
      " [1 3]\n",
      " [2 2]\n",
      " [3 1]\n",
      " [4 0]]\n",
      "\n",
      "Xc =  [[-2  2]\n",
      " [-1  1]\n",
      " [ 0  0]\n",
      " [ 1 -1]\n",
      " [ 2 -2]]\n",
      "\n",
      "將X呈現在二維平面中：\n"
     ]
    },
    {
     "data": {
      "image/png": "[encoded data removed]",
      "text/plain": [
       "<Figure size 432x288 with 1 Axes>"
      ]
     },
     "metadata": {},
     "output_type": "display_data"
    }
   ],
   "source": [
    "#輸入原先題目給定的值\n",
    "X = np.array([[0, 4], [1, 3], [2, 2], [3, 1], [4, 0]])\n",
    "print('X=',X)\n",
    "print()\n",
    "#rng = np.random.RandomState(1)\n",
    "\n",
    "plt.scatter(X[:, 0], X[:, 1])\n",
    "plt.axis('equal');\n",
    "\n",
    "#歸零\n",
    "Xc = X - 2\n",
    "print('Xc = ',Xc)\n",
    "print()\n",
    "print('將X呈現在二維平面中：')"
   ]
  },
  {
   "cell_type": "code",
   "execution_count": 27,
   "metadata": {},
   "outputs": [
    {
     "name": "stdout",
     "output_type": "stream",
     "text": [
      "Xc的轉置 =  [[-2 -1  0  1  2]\n",
      " [ 2  1  0 -1 -2]]\n",
      "\n",
      "XcT * Xc =  [[ 10 -10]\n",
      " [-10  10]]\n",
      "\n",
      "特徵值：\n",
      "[5.0000000e+00 4.4408921e-16]\n",
      "\n",
      "特徵向量：\n",
      "[[ 0.70710678  0.70710678]\n",
      " [-0.70710678  0.70710678]]\n"
     ]
    }
   ],
   "source": [
    "#XcT=Xc的轉置矩陣\n",
    "XcT = Xc.T\n",
    "print('Xc的轉置 = ',XcT)\n",
    "print()\n",
    "\n",
    "#XcT * Xc \n",
    "#計算斜方差矩陣\n",
    "C1 = XcT.dot(Xc)\n",
    "C2 = np.cov(Xc.T)\n",
    "print('XcT * Xc = ', C1)\n",
    "print()\n",
    "#plt.scatter(C2[:, 0], C2[:, 1])\n",
    "#plt.axis('equal');\n",
    "\n",
    "#運用numpy.linalg.eig() 計算矩陣特徵向量\n",
    "from numpy import linalg as LA\n",
    "w, v = LA.eig(np.array(C2))\n",
    "print(\"特徵值：\")\n",
    "print(w)\n",
    "print()\n",
    "print(\"特徵向量：\")\n",
    "print(v)\n"
   ]
  },
  {
   "cell_type": "code",
   "execution_count": 10,
   "metadata": {},
   "outputs": [],
   "source": [
    "#import math\n",
    "\n",
    "#1/math.sqrt( 2 )"
   ]
  },
  {
   "cell_type": "code",
   "execution_count": 28,
   "metadata": {},
   "outputs": [
    {
     "name": "stdout",
     "output_type": "stream",
     "text": [
      "[-2.82842712e+00 -1.41421356e+00  2.22044605e-16  1.41421356e+00\n",
      "  2.82842712e+00]\n"
     ]
    },
    {
     "data": {
      "image/png": "[encoded data removed]",
      "text/plain": [
       "<Figure size 432x288 with 1 Axes>"
      ]
     },
     "metadata": {},
     "output_type": "display_data"
    }
   ],
   "source": [
    "vv = v.T[0]\n",
    "ans = X.dot(vv)\n",
    "print(ans)\n",
    "plt.scatter(range(5),ans)\n",
    "plt.axis('equal');"
   ]
  },
  {
   "cell_type": "markdown",
   "metadata": {},
   "source": [
    "___"
   ]
  },
  {
   "cell_type": "markdown",
   "metadata": {},
   "source": [
    "# PCA Test2 ─ 自我測試的數據"
   ]
  },
  {
   "cell_type": "code",
   "execution_count": 29,
   "metadata": {},
   "outputs": [
    {
     "name": "stdout",
     "output_type": "stream",
     "text": [
      "X= [[2 4]\n",
      " [3 3]\n",
      " [3 4]\n",
      " [0 1]]\n",
      "\n",
      "Xc =  [[ 0  2]\n",
      " [ 1  1]\n",
      " [ 1  2]\n",
      " [-2 -1]]\n",
      "\n",
      "將X呈現在二維平面中：\n"
     ]
    },
    {
     "data": {
      "image/png": "[encoded data removed]",
      "text/plain": [
       "<Figure size 432x288 with 1 Axes>"
      ]
     },
     "metadata": {},
     "output_type": "display_data"
    }
   ],
   "source": [
    "#輸入值\n",
    "X = np.array([[2, 4], [3, 3], [3, 4], [0, 1]])\n",
    "print('X=',X)\n",
    "print()\n",
    "#rng = np.random.RandomState(1)\n",
    "\n",
    "plt.scatter(X[:, 0], X[:, 1])\n",
    "plt.axis('equal');\n",
    "\n",
    "#歸零\n",
    "Xc = X - 2\n",
    "print('Xc = ',Xc)\n",
    "print()\n",
    "print('將X呈現在二維平面中：')"
   ]
  },
  {
   "cell_type": "code",
   "execution_count": 30,
   "metadata": {},
   "outputs": [
    {
     "name": "stdout",
     "output_type": "stream",
     "text": [
      "Xc的轉置 =  [[ 0  1  1 -2]\n",
      " [ 2  1  2 -1]]\n",
      "\n",
      "XcT * Xc =  [[ 6  5]\n",
      " [ 5 10]]\n",
      "\n",
      "特徵值：\n",
      "[5.0000000e+00 4.4408921e-16]\n",
      "\n",
      "特徵向量：\n",
      "[[ 0.70710678  0.70710678]\n",
      " [-0.70710678  0.70710678]]\n",
      "[[-1.41421356e+00  4.24264069e+00]\n",
      " [ 4.44089210e-16  4.24264069e+00]\n",
      " [-7.07106781e-01  4.94974747e+00]\n",
      " [-7.07106781e-01  7.07106781e-01]]\n"
     ]
    },
    {
     "data": {
      "image/png": "[encoded data removed]",
      "text/plain": [
       "<Figure size 432x288 with 1 Axes>"
      ]
     },
     "metadata": {},
     "output_type": "display_data"
    }
   ],
   "source": [
    "#XcT=Xc的轉置矩陣\n",
    "XcT = Xc.T\n",
    "print('Xc的轉置 = ',XcT)\n",
    "print()\n",
    "\n",
    "#XcT * Xc \n",
    "#計算斜方差矩陣\n",
    "C1 = XcT.dot(Xc)\n",
    "#C2 = np.cov(Xc.T)\n",
    "print('XcT * Xc = ', C1)\n",
    "print()\n",
    "#plt.scatter(C2[:, 0], C2[:, 1])\n",
    "#plt.axis('equal');\n",
    "\n",
    "#運用numpy.linalg.eig() 計算矩陣特徵向量\n",
    "from numpy import linalg as LA\n",
    "w, v = LA.eig(np.array(C2))\n",
    "print(\"特徵值：\")\n",
    "print(w)\n",
    "print()\n",
    "print(\"特徵向量：\")\n",
    "print(v)\n",
    "\n",
    "vv = v[0]\n",
    "ans = X.dot(vv)\n",
    "print(ans)\n",
    "plt.scatter(ans[:, 0], ans[:, 1])\n",
    "plt.axis('equal');"
   ]
  }
 ],
 "metadata": {
  "kernelspec": {
   "display_name": "Python 3",
   "language": "python",
   "name": "python3"
  },
  "language_info": {
   "codemirror_mode": {
    "name": "ipython",
    "version": 3
   },
   "file_extension": ".py",
   "mimetype": "text/x-python",
   "name": "python",
   "nbconvert_exporter": "python",
   "pygments_lexer": "ipython3",
   "version": "3.6.5"
  }
 },
 "nbformat": 4,
 "nbformat_minor": 2
}
