{
 "cells": [
  {
   "cell_type": "markdown",
   "metadata": {},
   "source": [
    "# 2-6  Similarity Measures"
   ]
  },
  {
   "cell_type": "markdown",
   "metadata": {},
   "source": [
    "Cosine similarity"
   ]
  },
  {
   "attachments": {
    "image.png": {
     "image/png": "[encoded data removed]"
    }
   },
   "cell_type": "markdown",
   "metadata": {},
   "source": [
    "![image.png](attachment:image.png)"
   ]
  },
  {
   "cell_type": "markdown",
   "metadata": {},
   "source": [
    "Extended Jaccard Similarity"
   ]
  },
  {
   "attachments": {
    "image.png": {
     "image/png": "[encoded data removed]"
    }
   },
   "cell_type": "markdown",
   "metadata": {},
   "source": [
    "![image.png](attachment:image.png)"
   ]
  },
  {
   "cell_type": "markdown",
   "metadata": {},
   "source": [
    "Correlation Similarity"
   ]
  },
  {
   "cell_type": "code",
   "execution_count": 49,
   "metadata": {},
   "outputs": [],
   "source": [
    "import numpy as np\n",
    "\n",
    "#老師題目的數據\n",
    "Q  = np.array( [1,1,0] )\n",
    "X1 = np.array( [2,2,0] )\n",
    "X2 = np.array( [0,1,1] )\n",
    "X3 = np.array( [1,-1,0])\n",
    "X4 = np.array( [0,0,1] )\n",
    "#計算Cosine similarity與Extended Jaccard時需要用到範數，代入求範數的函數\n",
    "Norm_Q  = np.linalg.norm(Q)\n",
    "Norm_X1 = np.linalg.norm(X1)\n",
    "Norm_X2 = np.linalg.norm(X2)\n",
    "Norm_X3 = np.linalg.norm(X3)\n",
    "Norm_X4 = np.linalg.norm(X4)\n",
    "#計算Cosine Similarity需要用到矩陣內積，代入求內積的函數\n",
    "Q_dot_X1 = np.dot(Q , X1)\n",
    "Q_dot_X2 = np.dot(Q , X2)\n",
    "Q_dot_X3 = np.dot(Q , X3)\n",
    "Q_dot_X4 = np.dot(Q , X4)\n",
    "#計算Correlation需要用到矩陣標準化，代入求內標準化的函數\n",
    "Q_pre  = preprocessing.scale(Q)\n",
    "X1_pre = preprocessing.scale(X1)\n",
    "X2_pre = preprocessing.scale(X2)\n",
    "X3_pre = preprocessing.scale(X3)\n",
    "X4_pre = preprocessing.scale(X4)\n",
    "#--------------------------------------------------------------------------------------------\n",
    "#Cosine Similarity\n",
    "Q_cos_X1 = Q_dot_X1 / (Norm_Q * Norm_X1)\n",
    "Q_cos_X2 = Q_dot_X2 / (Norm_Q * Norm_X2)\n",
    "Q_cos_X3 = Q_dot_X3 / (Norm_Q * Norm_X3)\n",
    "Q_cos_X4 = Q_dot_X4 / (Norm_Q * Norm_X4)\n",
    "#--------------------------------------------------------------------------------------------\n",
    "#Extended Jaccard similarity\n",
    "Q_jac_X1 = Q_dot_X1 / (Norm_Q**2 + Norm_X1**2 - Q_dot_X1)\n",
    "Q_jac_X2 = Q_dot_X2 / (Norm_Q**2 + Norm_X2**2 - Q_dot_X2)\n",
    "Q_jac_X3 = Q_dot_X3 / (Norm_Q**2 + Norm_X3**2 - Q_dot_X3)\n",
    "Q_jac_X4 = Q_dot_X4 / (Norm_Q**2 + Norm_X4**2 - Q_dot_X4)\n",
    "#--------------------------------------------------------------------------------------------\n",
    "#Correlation similarity\n",
    "Q_cor_X1 = np.dot(Q_pre, X1_pre)\n",
    "Q_cor_X2 = np.dot(Q_pre, X2_pre)\n",
    "Q_cor_X3 = np.dot(Q_pre, X3_pre)\n",
    "Q_cor_X4 = np.dot(Q_pre, X4_pre)"
   ]
  },
  {
   "cell_type": "code",
   "execution_count": 50,
   "metadata": {},
   "outputs": [
    {
     "name": "stdout",
     "output_type": "stream",
     "text": [
      "X1>Cosine similarity=1.0\n",
      "X2>Cosine similarity=0.5\n",
      "X3>Cosine similarity=0.0\n",
      "X4>Cosine similarity=0.0\n"
     ]
    }
   ],
   "source": [
    "#輸出Cosine similarity\n",
    "print(\"X1>Cosine similarity=\"  + str(round(Q_cos_X1, 2)))\n",
    "print(\"X2>Cosine similarity=\"  + str(round(Q_cos_X2, 2)))\n",
    "print(\"X3>Cosine similarity=\"  + str(round(Q_cos_X3, 2)))\n",
    "print(\"X4>Cosine similarity=\"  + str(round(Q_cos_X4, 2)))"
   ]
  },
  {
   "cell_type": "code",
   "execution_count": 51,
   "metadata": {},
   "outputs": [
    {
     "name": "stdout",
     "output_type": "stream",
     "text": [
      "X1>Extended Jaccard similarity=0.67\n",
      "X2>Extended Jaccard similarity=0.33\n",
      "X3>Extended Jaccard similarity=0.0\n",
      "X4>Extended Jaccard similarity=0.0\n"
     ]
    }
   ],
   "source": [
    "#輸出Extended Jaccard\n",
    "print(\"X1>Extended Jaccard similarity=\" + str(round(Q_jac_X1, 2)))\n",
    "print(\"X2>Extended Jaccard similarity=\" + str(round(Q_jac_X2, 2)))\n",
    "print(\"X3>Extended Jaccard similarity=\" + str(round(Q_jac_X3, 2)))\n",
    "print(\"X4>Extended Jaccard similarity=\" + str(round(Q_jac_X4, 2)))"
   ]
  },
  {
   "cell_type": "code",
   "execution_count": 52,
   "metadata": {},
   "outputs": [
    {
     "name": "stdout",
     "output_type": "stream",
     "text": [
      "X1>Correlation=3.0\n",
      "X2>Correlation=-1.5\n",
      "X3>Correlation=0.0\n",
      "X4>Correlation=-3.0\n"
     ]
    }
   ],
   "source": [
    "print(\"X1>Correlation=\"+str(round(Q_cor_X1, 2)))\n",
    "print(\"X2>Correlation=\"+str(round(Q_cor_X2, 2)))\n",
    "print(\"X3>Correlation=\"+str(round(Q_cor_X3, 2)))\n",
    "print(\"X4>Correlation=\"+str(round(Q_cor_X4, 2)))"
   ]
  },
  {
   "cell_type": "markdown",
   "metadata": {},
   "source": [
    "# 自我測試的數據"
   ]
  },
  {
   "cell_type": "code",
   "execution_count": 54,
   "metadata": {},
   "outputs": [
    {
     "name": "stdout",
     "output_type": "stream",
     "text": [
      "X1>Cosine similarity=0.95\n",
      "X2>Cosine similarity=0.32\n",
      "X3>Cosine similarity=-0.29\n",
      "X4>Cosine similarity=0.32\n",
      "******************************************\n",
      "X1>Extended Jaccard similarity=0.75\n",
      "X2>Extended Jaccard similarity=0.17\n",
      "X3>Extended Jaccard similarity=-0.11\n",
      "X4>Extended Jaccard similarity=0.17\n",
      "******************************************\n",
      "X1>Correlation=2.6\n",
      "X2>Correlation=-2.6\n",
      "X3>Correlation=0.57\n",
      "X4>Correlation=-2.6\n"
     ]
    }
   ],
   "source": [
    "import numpy as np\n",
    "\n",
    "#自我測試的數據\n",
    "Q  = np.array( [0,1,1] )\n",
    "X1 = np.array( [0,2,1] )\n",
    "X2 = np.array( [2,0,1] )\n",
    "X3 = np.array( [-1,-2,1])\n",
    "X4 = np.array( [2,0,1] )\n",
    "#計算Cosine similarity與Extended Jaccard時需要用到範數，代入求範數的函數\n",
    "Norm_Q  = np.linalg.norm(Q)\n",
    "Norm_X1 = np.linalg.norm(X1)\n",
    "Norm_X2 = np.linalg.norm(X2)\n",
    "Norm_X3 = np.linalg.norm(X3)\n",
    "Norm_X4 = np.linalg.norm(X4)\n",
    "#計算Cosine Similarity需要用到矩陣內積，代入求內積的函數\n",
    "Q_dot_X1 = np.dot(Q , X1)\n",
    "Q_dot_X2 = np.dot(Q , X2)\n",
    "Q_dot_X3 = np.dot(Q , X3)\n",
    "Q_dot_X4 = np.dot(Q , X4)\n",
    "#計算Correlation需要用到矩陣標準化，代入求內標準化的函數\n",
    "Q_pre  = preprocessing.scale(Q)\n",
    "X1_pre = preprocessing.scale(X1)\n",
    "X2_pre = preprocessing.scale(X2)\n",
    "X3_pre = preprocessing.scale(X3)\n",
    "X4_pre = preprocessing.scale(X4)\n",
    "#--------------------------------------------------------------------------------------------\n",
    "#Cosine Similarity\n",
    "Q_cos_X1 = Q_dot_X1 / (Norm_Q * Norm_X1)\n",
    "Q_cos_X2 = Q_dot_X2 / (Norm_Q * Norm_X2)\n",
    "Q_cos_X3 = Q_dot_X3 / (Norm_Q * Norm_X3)\n",
    "Q_cos_X4 = Q_dot_X4 / (Norm_Q * Norm_X4)\n",
    "#--------------------------------------------------------------------------------------------\n",
    "#Extended Jaccard similarity\n",
    "Q_jac_X1 = Q_dot_X1 / (Norm_Q**2 + Norm_X1**2 - Q_dot_X1)\n",
    "Q_jac_X2 = Q_dot_X2 / (Norm_Q**2 + Norm_X2**2 - Q_dot_X2)\n",
    "Q_jac_X3 = Q_dot_X3 / (Norm_Q**2 + Norm_X3**2 - Q_dot_X3)\n",
    "Q_jac_X4 = Q_dot_X4 / (Norm_Q**2 + Norm_X4**2 - Q_dot_X4)\n",
    "#--------------------------------------------------------------------------------------------\n",
    "#Correlation similarity\n",
    "Q_cor_X1 = np.dot(Q_pre, X1_pre)\n",
    "Q_cor_X2 = np.dot(Q_pre, X2_pre)\n",
    "Q_cor_X3 = np.dot(Q_pre, X3_pre)\n",
    "Q_cor_X4 = np.dot(Q_pre, X4_pre)\n",
    "\n",
    "#============================================================================================\n",
    "\n",
    "print(\"X1>Cosine similarity=\"  + str(round(Q_cos_X1, 2)))\n",
    "print(\"X2>Cosine similarity=\"  + str(round(Q_cos_X2, 2)))\n",
    "print(\"X3>Cosine similarity=\"  + str(round(Q_cos_X3, 2)))\n",
    "print(\"X4>Cosine similarity=\"  + str(round(Q_cos_X4, 2)))\n",
    "print(\"******************************************\")\n",
    "print(\"X1>Extended Jaccard similarity=\" + str(round(Q_jac_X1, 2)))\n",
    "print(\"X2>Extended Jaccard similarity=\" + str(round(Q_jac_X2, 2)))\n",
    "print(\"X3>Extended Jaccard similarity=\" + str(round(Q_jac_X3, 2)))\n",
    "print(\"X4>Extended Jaccard similarity=\" + str(round(Q_jac_X4, 2)))\n",
    "print(\"******************************************\")\n",
    "print(\"X1>Correlation=\"+str(round(Q_cor_X1, 2)))\n",
    "print(\"X2>Correlation=\"+str(round(Q_cor_X2, 2)))\n",
    "print(\"X3>Correlation=\"+str(round(Q_cor_X3, 2)))\n",
    "print(\"X4>Correlation=\"+str(round(Q_cor_X4, 2)))"
   ]
  },
  {
   "cell_type": "code",
   "execution_count": null,
   "metadata": {},
   "outputs": [],
   "source": []
  }
 ],
 "metadata": {
  "kernelspec": {
   "display_name": "Python 3",
   "language": "python",
   "name": "python3"
  },
  "language_info": {
   "codemirror_mode": {
    "name": "ipython",
    "version": 3
   },
   "file_extension": ".py",
   "mimetype": "text/x-python",
   "name": "python",
   "nbconvert_exporter": "python",
   "pygments_lexer": "ipython3",
   "version": "3.7.3"
  }
 },
 "nbformat": 4,
 "nbformat_minor": 2
}
