{
 "cells": [
  {
   "cell_type": "markdown",
   "metadata": {},
   "source": [
    "# KNN search\n"
   ]
  },
  {
   "cell_type": "code",
   "execution_count": 1,
   "metadata": {},
   "outputs": [
    {
     "name": "stdout",
     "output_type": "stream",
     "text": [
      "   minlist namelist  maxlist\n",
      "2       35       QC       35\n",
      "5        0       QF       40\n",
      "3       40       QD       45\n"
     ]
    }
   ],
   "source": [
    "import numpy as np\n",
    "import pandas as pd\n",
    "from pandas.core.frame import DataFrame\n",
    "\n",
    "Q=[60,25]\n",
    "A=[5,50]\n",
    "B=[10,40]\n",
    "C=[25,10]\n",
    "D=[100,20]\n",
    "E=[125,60]\n",
    "r=[A,B,C,D,E]\n",
    "namelist=[\"QA\",\"QB\",\"QC\",\"QD\",\"QE\"]\n",
    "# =============================================================================\n",
    "# A:max{|60-5|,|25-50|} <= QA <= min{60+5,25+50}\n",
    "# =============================================================================\n",
    "#max{|60-5|,|25-50|}\n",
    "def KNNMAX(i) :\n",
    "    return max(abs(Q[0]-r[i][0]), abs(Q[1]-r[i][1]))\n",
    "\n",
    "#min{60+5,25+50}\n",
    "def KNNMIN(i) :\n",
    "    return min(Q[0]+r[i][0], Q[1]+r[i][1])\n",
    "\n",
    "plist=[]\n",
    "vlist=[]    \n",
    "for i in range(len(r)):\n",
    "       a=KNNMIN(i)\n",
    "       b=KNNMAX(i)\n",
    "       plist.append(a)\n",
    "       vlist.append(b)\n",
    "# 將 namelist 介於 minlist 與 maxlist 之間      \n",
    "rdata= { \"minlist\" : vlist,\n",
    "         \"namelist\": namelist,\n",
    "         \"maxlist\" : plist\n",
    "          }       \n",
    "       \n",
    "rdf= DataFrame(rdata)\n",
    "#將 QF 加入\n",
    "rdf1= rdf.append({\"minlist\" :0 ,\"namelist\":\"QF\", \"maxlist\" :40 } , ignore_index= True )\n",
    "rdf2=rdf1.sort_values(by = 'maxlist')\n",
    "\n",
    "#取出最近的前三名\n",
    "finaldf=rdf2.head(3)\n",
    "print(finaldf)"
   ]
  },
  {
   "cell_type": "code",
   "execution_count": null,
   "metadata": {},
   "outputs": [],
   "source": []
  },
  {
   "cell_type": "code",
   "execution_count": null,
   "metadata": {},
   "outputs": [],
   "source": []
  },
  {
   "cell_type": "code",
   "execution_count": null,
   "metadata": {},
   "outputs": [],
   "source": []
  },
  {
   "cell_type": "code",
   "execution_count": null,
   "metadata": {},
   "outputs": [],
   "source": []
  },
  {
   "cell_type": "code",
   "execution_count": null,
   "metadata": {},
   "outputs": [],
   "source": []
  }
 ],
 "metadata": {
  "kernelspec": {
   "display_name": "Python 3",
   "language": "python",
   "name": "python3"
  },
  "language_info": {
   "codemirror_mode": {
    "name": "ipython",
    "version": 3
   },
   "file_extension": ".py",
   "mimetype": "text/x-python",
   "name": "python",
   "nbconvert_exporter": "python",
   "pygments_lexer": "ipython3",
   "version": "3.6.5"
  }
 },
 "nbformat": 4,
 "nbformat_minor": 2
}
