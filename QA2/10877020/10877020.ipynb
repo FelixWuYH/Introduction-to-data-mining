{
 "cells": [
  {
   "cell_type": "code",
   "execution_count": 23,
   "metadata": {},
   "outputs": [],
   "source": [
    "import numpy as np\n",
    "\n",
    "def similarity(X, Y, method):\n",
    "    \n",
    "    #將輸入的list轉為Numpy的\n",
    "    X = np.mat(X)\n",
    "    Y = np.mat(Y)\n",
    "    \n",
    "    N1, M = np.shape(X)\n",
    "    N2, M = np.shape(Y)\n",
    "    \n",
    "\n",
    "    #Extended Jaccard\n",
    "    if method=='ext':\n",
    "        XYt = X*Y.T\n",
    "        sim = XYt / (np.log( np.exp(sum(np.power(X.T,2))).T * np.exp(sum(np.power(Y.T,2))) ) - XYt)\n",
    "        \n",
    "    #Cosine   \n",
    "    elif method=='cos': \n",
    "        sim = (X*Y.T)/(np.sqrt(sum(np.power(X.T,2))).T * np.sqrt(sum(np.power(Y.T,2))))\n",
    "    \n",
    "    #Correlation\n",
    "    elif method=='cor': \n",
    "        X_ = zscore(X,axis=1,ddof=1)\n",
    "        Y_ = zscore(Y,axis=1,ddof=1)\n",
    "        sim = (X_*Y_.T)/(M-1)\n",
    "        \n",
    "    return sim"
   ]
  },
  {
   "cell_type": "code",
   "execution_count": 24,
   "metadata": {},
   "outputs": [
    {
     "name": "stdout",
     "output_type": "stream",
     "text": [
      "[[1.]]\n",
      "[[0.5]]\n",
      "[[0.]]\n",
      "[[0.]]\n"
     ]
    }
   ],
   "source": [
    "print(similarity([1,1,0],[2,2,0], 'cos'))\n",
    "print(similarity([1,1,0],[0,1,1], 'cos'))\n",
    "print(similarity([1,1,0],[1,-1,0], 'cos'))\n",
    "print(similarity([1,1,0],[0,0,1], 'cos'))"
   ]
  },
  {
   "cell_type": "code",
   "execution_count": 25,
   "metadata": {},
   "outputs": [
    {
     "name": "stdout",
     "output_type": "stream",
     "text": [
      "[[0.66666667]]\n",
      "[[0.33333333]]\n",
      "[[0.]]\n",
      "[[0.]]\n"
     ]
    }
   ],
   "source": [
    "print(similarity([1,1,0],[2,2,0], 'ext'))\n",
    "print(similarity([1,1,0],[0,1,1], 'ext'))\n",
    "print(similarity([1,1,0],[1,-1,0], 'ext'))\n",
    "print(similarity([1,1,0],[0,0,1], 'ext'))"
   ]
  },
  {
   "cell_type": "code",
   "execution_count": 26,
   "metadata": {},
   "outputs": [
    {
     "name": "stdout",
     "output_type": "stream",
     "text": [
      "[[1.]]\n",
      "[[-0.5]]\n",
      "[[0.]]\n",
      "[[-1.]]\n"
     ]
    }
   ],
   "source": [
    "print(similarity([1,1,0],[2,2,0], 'cor'))\n",
    "print(similarity([1,1,0],[0,1,1], 'cor'))\n",
    "print(similarity([1,1,0],[1,-1,0], 'cor'))\n",
    "print(similarity([1,1,0],[0,0,1], 'cor'))"
   ]
  },
  {
   "cell_type": "code",
   "execution_count": 27,
   "metadata": {},
   "outputs": [
    {
     "name": "stdout",
     "output_type": "stream",
     "text": [
      "[[0.75]]\n",
      "[[0.6]]\n",
      "[[0.25]]\n"
     ]
    }
   ],
   "source": [
    "print(similarity([1,1,0,1,0,1],[1,1,1,0,0,1], 'cos'))\n",
    "print(similarity([1,1,0,1,0,1],[1,1,1,0,0,1], 'ext'))\n",
    "print(similarity([1,1,0,1,0,1],[1,1,1,0,0,1], 'cor'))"
   ]
  },
  {
   "cell_type": "code",
   "execution_count": null,
   "metadata": {},
   "outputs": [],
   "source": []
  }
 ],
 "metadata": {
  "kernelspec": {
   "display_name": "Python 3",
   "language": "python",
   "name": "python3"
  },
  "language_info": {
   "codemirror_mode": {
    "name": "ipython",
    "version": 3
   },
   "file_extension": ".py",
   "mimetype": "text/x-python",
   "name": "python",
   "nbconvert_exporter": "python",
   "pygments_lexer": "ipython3",
   "version": "3.7.3"
  }
 },
 "nbformat": 4,
 "nbformat_minor": 2
}
