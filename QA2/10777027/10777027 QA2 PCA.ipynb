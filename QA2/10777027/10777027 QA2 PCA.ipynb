{
 "cells": [
  {
   "cell_type": "code",
   "execution_count": 52,
   "metadata": {},
   "outputs": [
    {
     "name": "stdout",
     "output_type": "stream",
     "text": [
      "max eigenvalues:  20.0\n",
      "corresponding  eigenvector:  [ 0.70710678 -0.70710678]\n"
     ]
    }
   ],
   "source": [
    "import numpy as np\n",
    "from numpy import linalg as LA\n",
    "\n",
    "matrix = []\n",
    "matrix_row_mean = []\n",
    "matrix_C = []\n",
    "X1 = [0, 1, 2, 3, 4]\n",
    "X2 = [4, 3, 2, 1, 0]\n",
    "\n",
    "#X1 = [-1, -1, 0, 2, 0]\n",
    "#X2 = [-2, 0, 0, 1, 1]\n",
    "\n",
    "matrix.append(X1)\n",
    "matrix.append(X2)\n",
    "\n",
    "matrix = np.array(matrix)\n",
    "matrix_C = np.dot(matrix, matrix.T)\n",
    "\n",
    "for matrix_row in range(len(matrix)):\n",
    "    mean = 0\n",
    "    matrix_column_len = len(matrix[matrix_row])\n",
    "    for matrix_column in range(matrix_column_len):\n",
    "        mean  += matrix[matrix_row][matrix_column]\n",
    "    mean /= matrix_column_len\n",
    "    matrix_row_mean.append(mean)\n",
    "\n",
    "for matrix_row in range(len(matrix)):\n",
    "    matrix_column_len = len(matrix[matrix_row])\n",
    "    for matrix_column in range(matrix_column_len):\n",
    "        matrix[matrix_row][matrix_column]  -= matrix_row_mean[matrix_row]\n",
    "\n",
    "matrix_C = np.dot(matrix, matrix.T)\n",
    "\n",
    "eigenvalues_arr, eigenvectors_arr = np.linalg.eig(matrix_C)\n",
    "max_eigenvalues = -9999999\n",
    "eigenvectors_index = -1\n",
    "\n",
    "for eigenvalues_index in range(len(eigenvalues_arr)):\n",
    "    if eigenvalues_arr[eigenvalues_index] > max_eigenvalues :\n",
    "        max_eigenvalues = eigenvalues_arr[eigenvalues_index]\n",
    "        eigenvectors_index = eigenvalues_index\n",
    "print(\"max eigenvalues: \", max_eigenvalues)\n",
    "print(\"corresponding  eigenvector: \", eigenvectors_arr[:, eigenvectors_index])"
   ]
  },
  {
   "cell_type": "code",
   "execution_count": null,
   "metadata": {},
   "outputs": [],
   "source": []
  }
 ],
 "metadata": {
  "kernelspec": {
   "display_name": "Python 3",
   "language": "python",
   "name": "python3"
  },
  "language_info": {
   "codemirror_mode": {
    "name": "ipython",
    "version": 3
   },
   "file_extension": ".py",
   "mimetype": "text/x-python",
   "name": "python",
   "nbconvert_exporter": "python",
   "pygments_lexer": "ipython3",
   "version": "3.7.3"
  }
 },
 "nbformat": 4,
 "nbformat_minor": 2
}
